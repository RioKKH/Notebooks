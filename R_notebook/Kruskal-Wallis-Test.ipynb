{
 "cells": [
  {
   "cell_type": "markdown",
   "metadata": {},
   "source": [
    "# Kruskal-Wallis Test\n",
    "対応のない多群の平均値差について検定を行う。\n",
    "後の検定でわかるように、各群の等分散性が認められないため、\n",
    "検定方法としては、ANOVAではなく、Kruskal-Wallis Testを用いる。"
   ]
  },
  {
   "cell_type": "code",
   "execution_count": 1,
   "metadata": {
    "scrolled": true
   },
   "outputs": [],
   "source": [
    "# データの読み込み\n",
    "df <- read.csv(\"data/kruskal_wallis.csv\",header=TRUE,comment.char = \"#\")"
   ]
  },
  {
   "cell_type": "code",
   "execution_count": 7,
   "metadata": {
    "scrolled": true
   },
   "outputs": [
    {
     "data": {
      "text/html": [
       "<table>\n",
       "<thead><tr><th scope=col>toolid</th><th scope=col>a</th><th scope=col>b</th></tr></thead>\n",
       "<tbody>\n",
       "\t<tr><td>214    </td><td>200    </td><td>4.96329</td></tr>\n",
       "\t<tr><td>215    </td><td>200    </td><td>4.96329</td></tr>\n",
       "\t<tr><td>216    </td><td>200    </td><td>7.33014</td></tr>\n",
       "</tbody>\n",
       "</table>\n"
      ],
      "text/latex": [
       "\\begin{tabular}{r|lll}\n",
       " toolid & a & b\\\\\n",
       "\\hline\n",
       "\t 214     & 200     & 4.96329\\\\\n",
       "\t 215     & 200     & 4.96329\\\\\n",
       "\t 216     & 200     & 7.33014\\\\\n",
       "\\end{tabular}\n"
      ],
      "text/markdown": [
       "\n",
       "toolid | a | b | \n",
       "|---|---|---|\n",
       "| 214     | 200     | 4.96329 | \n",
       "| 215     | 200     | 4.96329 | \n",
       "| 216     | 200     | 7.33014 | \n",
       "\n",
       "\n"
      ],
      "text/plain": [
       "  toolid a   b      \n",
       "1 214    200 4.96329\n",
       "2 215    200 4.96329\n",
       "3 216    200 7.33014"
      ]
     },
     "metadata": {},
     "output_type": "display_data"
    },
    {
     "data": {
      "text/plain": [
       "df$a: 200\n",
       "   Min. 1st Qu.  Median    Mean 3rd Qu.    Max. \n",
       "  1.950   2.478   3.789   4.177   4.963   7.330 \n",
       "------------------------------------------------------------ \n",
       "df$a: 400\n",
       "   Min. 1st Qu.  Median    Mean 3rd Qu.    Max. \n",
       "  1.804   2.990   4.741   5.144   6.743  10.980 \n",
       "------------------------------------------------------------ \n",
       "df$a: 800\n",
       "   Min. 1st Qu.  Median    Mean 3rd Qu.    Max. \n",
       "   2.70    8.80   14.90   18.12   24.90   45.40 \n",
       "------------------------------------------------------------ \n",
       "df$a: 1200\n",
       "   Min. 1st Qu.  Median    Mean 3rd Qu.    Max. \n",
       "  14.30   15.80   26.60   32.12   39.60   58.20 "
      ]
     },
     "metadata": {},
     "output_type": "display_data"
    }
   ],
   "source": [
    "# ざっくりとデータを眺める\n",
    "head(df, 3)\n",
    "by(df$b, df$a, summary)"
   ]
  },
  {
   "cell_type": "code",
   "execution_count": 4,
   "metadata": {
    "scrolled": false
   },
   "outputs": [
    {
     "data": {
      "image/png": "[encoded data removed]",
      "text/plain": [
       "plot without title"
      ]
     },
     "metadata": {},
     "output_type": "display_data"
    }
   ],
   "source": [
    "boxplot(b  ~ a, df)"
   ]
  },
  {
   "cell_type": "markdown",
   "metadata": {},
   "source": [
    "分散性の確認をBartlet testで行う。\n",
    "<br>等分散であればANOVA\n",
    "<br>非等分散(異分散)であれば Kruskal-Wallis testを行う"
   ]
  },
  {
   "cell_type": "markdown",
   "metadata": {},
   "source": [
    "# Bartlett test\n",
    "\n",
    "```R\n",
    "bartlet.test(検定変数 ~ 群変数, データフレーム名)\n",
    "bartlet.test(データフレーム名[, 検定変数の列番号] ~ データフレーム名[, 群変数の列番号])\n",
    "```\n",
    "分散分析も等分散が前提なので、事前の検定が望ましい\n",
    "\n",
    "## 仮説の考え方\n",
    "帰無仮説 $\\mathcal{H}_0: \\sigma_1^2 = \\sigma_2^2 = \\sigma_3^2$ →　各群の母分散には差がない(等分散)\n",
    "\n",
    "対立仮説 $\\mathcal{H}_1: \\sigma_1^2 \\neq \\sigma_2^2 \\neq \\sigma_3^2$ → 各群の母分散には1対以上で差がある(異分散)\n",
    "\n",
    "## 検定統計量\n",
    "$\\chi^2$分布に従う「全群の分散の偏りの度合い」"
   ]
  },
  {
   "cell_type": "code",
   "execution_count": 5,
   "metadata": {},
   "outputs": [
    {
     "data": {
      "text/plain": [
       "\n",
       "\tBartlett test of homogeneity of variances\n",
       "\n",
       "data:  b by a\n",
       "Bartlett's K-squared = 66.248, df = 3, p-value = 2.713e-14\n"
      ]
     },
     "metadata": {},
     "output_type": "display_data"
    }
   ],
   "source": [
    "bartlett.test(b ~ a, df)"
   ]
  },
  {
   "cell_type": "markdown",
   "metadata": {
    "collapsed": true
   },
   "source": [
    "P値が0.05よりも小さいので、帰無仮説は棄却され、対立仮説を採択する。\n",
    "つまり各群は異分散である。従って、bがaに影響を\n",
    "与えたとしてよいかどうかの検定は、ノンパラメトリックで対応のない\n",
    "多群の代表値の差の検定方法であるKruskal-Wallis testを用いる。"
   ]
  },
  {
   "cell_type": "code",
   "execution_count": 6,
   "metadata": {},
   "outputs": [
    {
     "data": {
      "text/plain": [
       "\n",
       "\tKruskal-Wallis rank sum test\n",
       "\n",
       "data:  b by a\n",
       "Kruskal-Wallis chi-squared = 40.362, df = 3, p-value = 8.928e-09\n"
      ]
     },
     "metadata": {},
     "output_type": "display_data"
    }
   ],
   "source": [
    "kruskal.test(b ~ a, df)"
   ]
  },
  {
   "cell_type": "markdown",
   "metadata": {},
   "source": [
    "P値が0.05以下であるため、群間に差がある、つまりaの差が\n",
    "bに効果があったと判断できる。\n",
    "どの群間で差があったのかについては、多重比較法を用いて検討する必要あり。\n",
    "多重比較法はどの方法を用いればよいのか、選択が難しい。本件の場合にどのような\n",
    "手法を用いるか不明。今後の勉強としたい。"
   ]
  },
  {
   "cell_type": "code",
   "execution_count": null,
   "metadata": {},
   "outputs": [],
   "source": []
  }
 ],
 "metadata": {
  "hide_input": false,
  "kernelspec": {
   "display_name": "R",
   "language": "R",
   "name": "ir"
  },
  "language_info": {
   "codemirror_mode": "r",
   "file_extension": ".r",
   "mimetype": "text/x-r-source",
   "name": "R",
   "pygments_lexer": "r",
   "version": "3.4.4"
  },
  "latex_envs": {
   "LaTeX_envs_menu_present": true,
   "autocomplete": false,
   "bibliofile": "biblio.bib",
   "cite_by": "apalike",
   "current_citInitial": 1,
   "eqLabelWithNumbers": true,
   "eqNumInitial": 1,
   "hotkeys": {
    "equation": "Ctrl-E",
    "itemize": "Ctrl-I"
   },
   "labels_anchors": false,
   "latex_user_defs": false,
   "report_style_numbering": false,
   "user_envs_cfg": false
  },
  "toc": {
   "colors": {
    "hover_highlight": "#DAA520",
    "navigate_num": "#000000",
    "navigate_text": "#333333",
    "running_highlight": "#FF0000",
    "selected_highlight": "#FFD700",
    "sidebar_border": "#EEEEEE",
    "wrapper_background": "#FFFFFF"
   },
   "moveMenuLeft": true,
   "nav_menu": {
    "height": "142px",
    "width": "160px"
   },
   "navigate_menu": true,
   "number_sections": true,
   "sideBar": true,
   "threshold": 4,
   "toc_cell": false,
   "toc_section_display": "block",
   "toc_window_display": false,
   "widenNotebook": false
  }
 },
 "nbformat": 4,
 "nbformat_minor": 2
}
