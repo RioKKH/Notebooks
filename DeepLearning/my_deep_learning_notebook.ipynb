{
 "cells": [
  {
   "cell_type": "markdown",
   "metadata": {},
   "source": [
    "### 単純パーセプトロン\n",
    "入力が$n$個の場合に拡張して一般化してみる。\n",
    "出力を表す式は、\n",
    "\n",
    "$$\n",
    "y = \n",
    "\\begin{cases}\n",
    "    1 & (w_1x_1 + w_2x_2 + \\cdots + w_nx_n \\geq \\theta) \\\\\n",
    "    0 & (w_1x_1 + w_2x_2 + \\cdots + w_nx_n < \\theta))\n",
    "\\end{cases}\n",
    "$$\n",
    "\n",
    "となる。ここで下式で表される関数$f(x)$を考えると、\n",
    "\n",
    "$$\n",
    "f(x) =\n",
    "\\begin{cases}\n",
    "    1 (x \\geq 0) \\\\\n",
    "    0 (x < 0)\n",
    "\\end{cases}\n",
    "$$\n",
    "\n",
    "ネットワークの出力$y$は\n",
    "\n",
    "$$\n",
    "y = f(w_1x_1 + w_2x_2 + \\cdots + w_nx_n - \\theta)\n",
    "$$\n",
    "\n",
    "と書きなおすことができる。この$f(x)$のことを **ステップ関数(step function)** と呼ぶ\n",
    "\n",
    "$$\n",
    "{\\bf x} = \n",
    "\\begin{pmatrix}\n",
    "    x_1 \\\\\n",
    "    x_2 \\\\\n",
    "    \\vdots \\\\\n",
    "    x_n\n",
    "\\end{pmatrix}\n",
    ", {\\bf w} =\n",
    "\\begin{pmatrix}\n",
    "    w_1 \\\\\n",
    "    w_2 \\\\\n",
    "    \\vdots \\\\\n",
    "    w_n\n",
    "\\end{pmatrix}\n",
    "$$\n",
    "\n",
    "とすると、最終的に出力は\n",
    "\n",
    "$$\n",
    "y = f({\\bf w} \\top {\\bf x} + b)\n",
    "$$\n",
    "\n",
    "と書くことができる。\n"
   ]
  },
  {
   "cell_type": "markdown",
   "metadata": {},
   "source": [
    "1. ニューラルネットワークは入力層、隠れ層、出力層を持つ\n",
    "1. 全結合層によって線形な変換が行われ、活性化関数によって非線形名変換が行われる。\n",
    "    1. 線形な変換\n",
    "    \n",
    "    Affine変換$\\cdots$全層結合\n",
    "    \n",
    "    1. 非線形な変換\n",
    "    \n",
    "    活性化関数$\\cdots$非線形な効果を与える。<br>\n",
    "    非線形な活性化関数を用いることで、\n",
    "    ニューラルネットワークの表現力を増す。\n",
    "    パーセプトロンでは活性化関数にステップ関数を\n",
    "    用いている。実は、パーセプトロンとニューラル\n",
    "    ネットワークの違いは、活性化関数に何を用いて\n",
    "    いるかのみの違いとなる。\n",
    "        1. パーセプトロン：ステップ関数\n",
    "        1. ニューラルネットワーク：シグモイド関数\n",
    "        シグモイド関数はその一つで以下の様に表す。\n",
    "$$\n",
    "\\sigma(x) = \\frac{1}{1+exp(-x)}\n",
    "$$\n",
    "        ステップ関数の代わりにシグモイド関数を用いたモデルの事を、 ** **\n",
    "\n",
    "1. 損失関数\n",
    "\n",
    "学習の進捗程度を表す指標。これを”loss”と呼ぶ。単一の\n",
    "スカラとして表現される。\n",
    "損失関数(loss function)"
   ]
  },
  {
   "cell_type": "markdown",
   "metadata": {},
   "source": [
    "#### シグモイド関数が使われる理由\n",
    "$$\n",
    "f(x) = 1 + \\exp^{-x}\n",
    "$$\n",
    "とすると、\n",
    "$$\n",
    "y = \\frac{1}{f(x)} \\\\\n",
    "\\therefore \\frac{dy}{dx} = - \\frac{f'(x)}{f(x)^2} = - \\frac{\\frac{d}{dx} (1+e^{-x})}{(1+e^{-x})^2} = \\frac{1}{1+e^{-x}} \\cdot \\frac{e^{-x}}{1+e^{-x}} = \\sigma(x)(1 - \\sigma(x))\n",
    "$$\n",
    "\n",
    "となり、シグモイド関数を微分した結果はシグモイド関数自身で表されることがわかる。この特徴が理論上も実装上も大いに役に立つ。"
   ]
  },
  {
   "cell_type": "code",
   "execution_count": 10,
   "metadata": {
    "code_folding": [
     0
    ]
   },
   "outputs": [
    {
     "data": {
      "image/png": "[encoded data removed]",
      "text/plain": [
       "<Figure size 432x288 with 1 Axes>"
      ]
     },
     "metadata": {
      "needs_background": "light"
     },
     "output_type": "display_data"
    }
   ],
   "source": [
    "# 活性化関数\n",
    "x = np.linspace(-5, 5, 100)\n",
    "def sigmoid(x):\n",
    "    return 1 / (1 + np.exp(-x))\n",
    "\n",
    "def relu(x):\n",
    "    # 正規化線形関数\n",
    "    # rectified linear function\n",
    "    return np.maximum(0, x)\n",
    "\n",
    "def tanh(x):\n",
    "    return np.tanh(x)\n",
    "\n",
    "plt.plot(x, sigmoid(x), x, relu(x), x, tanh(x))\n",
    "plt.legend(['sigmoid', 'relu', 'tanh'])\n",
    "plt.ylim(-1.5, 1.5)\n",
    "plt.grid()"
   ]
  },
  {
   "cell_type": "code",
   "execution_count": null,
   "metadata": {},
   "outputs": [],
   "source": []
  },
  {
   "cell_type": "markdown",
   "metadata": {},
   "source": [
    "## 出力層の設計と誤差関数\n",
    "\n",
    "|問題の種別|出力層の活性化関数|誤差関数|\n",
    "|----------|------------------|---------|\n",
    "|回帰|恒等写像|二乗誤差|\n",
    "|二値分類|ロジスティック関数|最尤推定法から求めた式|\n",
    "|多クラス分類|ソフトマックス関数|交差エントロピー|"
   ]
  },
  {
   "cell_type": "markdown",
   "metadata": {},
   "source": [
    "### 回帰\n",
    "#### 恒等写像\n",
    "$$\n",
    "f(u) = u\n",
    "$$\n",
    "#### 二乗誤差\n",
    "$$\n",
    "{\\bf\\|d - y(x;w)\\|}^2\n",
    "$$\n",
    "これを訓練データの全サンプル $n = 1, \\cdots , N$について加算したものを$1/2$にした\n",
    "$$\n",
    "E({\\bf w}) = \\frac{1}{2}\\sum_{n=1}^{N}\\|{\\bf d_n - y(x_n; w)\\|}^2\n",
    "$$\n",
    "を考え、これが最も小さくなるような$w$を選ぶ。$1/2$にするのhあ、微分すると2乗の2と相殺されるから。この$E(w)$が回帰で最も一般的な誤差関数になる。"
   ]
  },
  {
   "cell_type": "markdown",
   "metadata": {},
   "source": [
    "### 二値分類\n",
    "#### ロジスティック関数\n",
    "logistic function, もしくは、ロジスティックシグモイド関数(logistic sigmoid function)ともいい、以下の式で定義される。\n",
    "\n",
    "$$\n",
    "f(u) = \\frac{1}{1 + e^{-u}}\n",
    "$$\n",
    "\n",
    "#### 最尤推定法による誤差関数の導出\n",
    "事後分布を$d=1, d = 0$の事後分布を使って\n",
    "$$\n",
    "p(d|x) = p(d=1|{\\bf x})^{d}p(d=0|{\\bf x})^{1-d}\n",
    "$$\n",
    "\n",
    "このモデルのもとで${\\bf w}$のデータに対する *尤度 (likelihood)* を求め、\n",
    "それを最大化するような${\\bf w}$を選ぶ。\n",
    "\n",
    "$$\n",
    "L({\\bf w}) \\equiv \\prod_{n=1}^{N}p(d_{n}|{\\bf x_{n}; w}) = \\prod_{n=1}^{N}\\{y({\\bf x_{n};w})\\}^{d_{n}}\\{1 - y({\\bf x_{n};w)}\\}^{1-d_{n}}\n",
    "$$\n",
    "\n",
    "対数関数は単調増加→この式の対数をとっても結果は同じも→\n",
    "上式で表される尤度の対数を取り、更に最大化の代わりに最小化を\n",
    "考えることにして符号を反転させると\n",
    "$$\n",
    "E({\\bf w}) = -\\sum_{n=1}^{N}[d_{n}\\log{y({\\bf x_{n}; w})} + (1-d_{n})\\log{\\{1-y({\\bf x_{n}; w})\\}}]\n",
    "$$\n",
    "これを誤差関数とする\n",
    "- [Qiita 尤度って何？](https://qiita.com/kenmatsu4/items/b28d1b3b3d291d0cc698)\n",
    "\n",
    "事後確率$p(d = 1|{\\bf x})$は条件付き確率の定義から\n",
    "\n",
    "$$\n",
    "p(d = 1| {\\bf x}) = \\frac{p({\\bf x}, d =1)}{p({\\bf x}, d=0) + p({\\bf x}, d = 1)}\n",
    "$$\n",
    "\n",
    "とかける。ここで\n",
    "\n",
    "$$\n",
    "u \\equiv \\log{\\frac{p({\\bf x}, d=1)}{p({\\bf x}, d = 0)}}\n",
    "$$\n",
    "\n",
    "と置くと、事後確率$p(d=1|{\\bf x})$は$u$のロジスティック関数に一致する\n",
    "\n"
   ]
  },
  {
   "cell_type": "markdown",
   "metadata": {},
   "source": [
    "### 多クラス分類 \n"
   ]
  },
  {
   "cell_type": "markdown",
   "metadata": {},
   "source": [
    "# 自然言語処理\n",
    "1. Natural Language processing: NLP\n",
    "1. 方法論\n",
    "    1. シソーラスによる手法\n",
    "        1. シソーラス：同じ意味の単語(同義語)・意味の似た単語(類義語)を同じグループに分類\n",
    "            1. WordNet(プリンストン大学)が有名\n",
    "    2. カウントベースの手法\n",
    "        1. コーパスを用いる\n",
    "            1. コーパスとは目的を持って集められたテキストデータ\n",
    "            \n",
    "    3. 推論ベースの手法(word2vec)\n",
    "    "
   ]
  },
  {
   "cell_type": "code",
   "execution_count": 23,
   "metadata": {},
   "outputs": [],
   "source": [
    "def preprocess(text):\n",
    "    text = text.lower()\n",
    "    text = text.replace('.', ' .')\n",
    "    words = text.split(' ')\n",
    "    \n",
    "    word_to_id = {}\n",
    "    id_to_word = {}\n",
    "    for word in words:\n",
    "        if word not in word_to_id:\n",
    "            new_id = len(word_to_id)\n",
    "            word_to_id[word] = new_id\n",
    "            id_to_word[new_id] = word\n",
    "            \n",
    "    corpus = np.array([word_to_id[w] for w in words])\n",
    "        \n",
    "    return corpus, word_to_id, id_to_word"
   ]
  },
  {
   "cell_type": "code",
   "execution_count": 25,
   "metadata": {},
   "outputs": [
    {
     "name": "stdout",
     "output_type": "stream",
     "text": [
      "[0 1 2 3 4 1 5 6] {'you': 0, 'say': 1, 'goodbye': 2, 'and': 3, 'i': 4, 'hello': 5, '.': 6} {0: 'you', 1: 'say', 2: 'goodbye', 3: 'and', 4: 'i', 5: 'hello', 6: '.'}\n"
     ]
    }
   ],
   "source": [
    "text = 'You say goodbye and I say hello.'\n",
    "corpus, word_to_id, id_to_word = preprocess(text)\n",
    "print(corpus, word_to_id, id_to_word)"
   ]
  },
  {
   "cell_type": "markdown",
   "metadata": {},
   "source": [
    "1. 単語の分散表現<br>\n",
    "    単語の意味を捉えたベクトル表現\n",
    "1. 単語の分布仮設 (distributional hypothesis)<br>\n",
    "    自然言語処理において単語をベクトルで表す方法として使われているアイディア。\n",
    "1. 共起行列<br>\n",
    "    分布仮設に基づいて単語をベクトルで表す方法\n",
    "1. ベクトル間の類似度\n",
    "\n",
    "    コサイン類似度(cosine similarity)を用いる\n",
    "$$\n",
    "\\begin{align}\n",
    "similarity(x, y)\n",
    "= \\frac{{\\bf x \\cdot y}}{{\\bf \\|x\\|\\|y\\|}} \n",
    "= \\frac{x_1y_1 + \\cdots + x_ny_n}{\\sqrt{(x_1^2+ \\cdots +x_n^2)}\\sqrt{(y_1^2+ \\cdots + y_n^2}}\n",
    "\\end{align}\n",
    "$$\n",
    "\n",
    "これを素直に実装すると、0ベクトルが引数に来たときに、”0除算”が生じてしまう。これを回避するため、小さな値を除算に加算する。\n"
   ]
  },
  {
   "cell_type": "code",
   "execution_count": 28,
   "metadata": {},
   "outputs": [],
   "source": [
    "def create_co_matrix(corpus, vocab_size, window_size=1):\n",
    "    corpus_size = len(corpus)\n",
    "    co_matrix = np.zeros((vocab_size, vocab_size), dtype=np.int32)\n",
    "    \n",
    "    for idx, word_id in enumerate(corpus):\n",
    "        for i in range(1, window_size + 1):\n",
    "            left_idx = idx - i\n",
    "            right_idx = idx + i\n",
    "            \n",
    "            if left_idx >= 0:\n",
    "                left_word_id = corpus[left_idx]\n",
    "                co_matrix[word_id, left_word_id] += 1\n",
    "                \n",
    "            if right_idx < corpus_size:\n",
    "                right_word_id = corpus[right_idx]\n",
    "                co_matrix[word_id, right_word_id] += 1\n",
    "                \n",
    "    return co_matrix"
   ]
  },
  {
   "cell_type": "code",
   "execution_count": 26,
   "metadata": {},
   "outputs": [],
   "source": [
    "def cos_similarity(x, y, eps=1e-8):\n",
    "    nx = x / np.sqrt(np.sum(x**2) + eps) # xの正規化\n",
    "    ny = y / np.sqrt(np.sum(y**2) + eps) # yの正規化\n",
    "    return np.dot(nx, ny)"
   ]
  },
  {
   "cell_type": "code",
   "execution_count": 29,
   "metadata": {},
   "outputs": [
    {
     "name": "stdout",
     "output_type": "stream",
     "text": [
      "0.7071067811865475\n"
     ]
    }
   ],
   "source": [
    "text = \"You say goodbye and I say hello.\"\n",
    "corpus, word_to_id, id_to_word = preprocess(text)\n",
    "vocab_size = len(word_to_id)\n",
    "C = create_co_matrix(corpus, vocab_size)\n",
    "\n",
    "c0 = C[word_to_id['you']] # you の単語ベクトル\n",
    "c1 = C[word_to_id['i']] # i の単語ベクトル\n",
    "print(cos_similarity(c0, c1))"
   ]
  },
  {
   "cell_type": "code",
   "execution_count": null,
   "metadata": {},
   "outputs": [],
   "source": []
  }
 ],
 "metadata": {
  "kernelspec": {
   "display_name": "Python 3",
   "language": "python",
   "name": "python3"
  },
  "language_info": {
   "codemirror_mode": {
    "name": "ipython",
    "version": 3
   },
   "file_extension": ".py",
   "mimetype": "text/x-python",
   "name": "python",
   "nbconvert_exporter": "python",
   "pygments_lexer": "ipython3",
   "version": "3.6.4"
  },
  "varInspector": {
   "cols": {
    "lenName": 16,
    "lenType": 16,
    "lenVar": 40
   },
   "kernels_config": {
    "python": {
     "delete_cmd_postfix": "",
     "delete_cmd_prefix": "del ",
     "library": "var_list.py",
     "varRefreshCmd": "print(var_dic_list())"
    },
    "r": {
     "delete_cmd_postfix": ") ",
     "delete_cmd_prefix": "rm(",
     "library": "var_list.r",
     "varRefreshCmd": "cat(var_dic_list()) "
    }
   },
   "types_to_exclude": [
    "module",
    "function",
    "builtin_function_or_method",
    "instance",
    "_Feature"
   ],
   "window_display": false
  }
 },
 "nbformat": 4,
 "nbformat_minor": 2
}
