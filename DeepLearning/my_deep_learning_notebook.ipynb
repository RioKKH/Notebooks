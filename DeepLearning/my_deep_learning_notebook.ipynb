{
 "cells": [
  {
   "cell_type": "markdown",
   "metadata": {},
   "source": [
    "1. ニューラルネットワークは入力層、隠れ層、出力層を持つ\n",
    "1. 全結合層によって線形な変換が行われ、活性化関数によって非線形名変換が行われる。\n",
    "    1. 線形な変換\n",
    "    \n",
    "    Affine変換$\\cdots$全層結合\n",
    "    \n",
    "    1. 非線形な変換\n",
    "    \n",
    "    活性化関数$\\cdots$非線形な効果を与える。<br>\n",
    "    非線形な活性化関数を用いることで、\n",
    "    ニューラルネットワークの表現力を増す。\n",
    "    パーセプトロンでは活性化関数にステップ関数を\n",
    "    用いている。実は、パーセプトロンとニューラル\n",
    "    ネットワークの違いは、活性化関数に何を用いて\n",
    "    いるかのみの違いとなる。\n",
    "        1. パーセプトロン：ステップ関数\n",
    "        1. ニューラルネットワーク：シグモイド関数\n",
    "        シグモイド関数はその一つで以下の様に表す。\n",
    "$$\n",
    "\\sigma(x) = \\frac{1}{1+exp(-x)}\n",
    "$$\n",
    "\n",
    "1. 損失関数\n",
    "\n",
    "学習の進捗程度を表す指標。これを”loss”と呼ぶ。単一の\n",
    "スカラとして表現される。\n",
    "損失関数(loss function)"
   ]
  },
  {
   "cell_type": "markdown",
   "metadata": {},
   "source": [
    "# 自然言語処理\n",
    "1. Natural Language processing: NLP\n",
    "1. 方法論\n",
    "    1. シソーラスによる手法\n",
    "        1. シソーラス：同じ意味の単語(同義語)・意味の似た単語(類義語)を同じグループに分類\n",
    "            1. WordNet(プリンストン大学)が有名\n",
    "    2. カウントベースの手法\n",
    "        1. コーパスを用いる\n",
    "            1. コーパスとは目的を持って集められたテキストデータ\n",
    "            \n",
    "    3. 推論ベースの手法(word2vec)\n",
    "    "
   ]
  },
  {
   "cell_type": "code",
   "execution_count": 23,
   "metadata": {},
   "outputs": [],
   "source": [
    "def preprocess(text):\n",
    "    text = text.lower()\n",
    "    text = text.replace('.', ' .')\n",
    "    words = text.split(' ')\n",
    "    \n",
    "    word_to_id = {}\n",
    "    id_to_word = {}\n",
    "    for word in words:\n",
    "        if word not in word_to_id:\n",
    "            new_id = len(word_to_id)\n",
    "            word_to_id[word] = new_id\n",
    "            id_to_word[new_id] = word\n",
    "            \n",
    "    corpus = np.array([word_to_id[w] for w in words])\n",
    "        \n",
    "    return corpus, word_to_id, id_to_word"
   ]
  },
  {
   "cell_type": "code",
   "execution_count": 25,
   "metadata": {},
   "outputs": [
    {
     "name": "stdout",
     "output_type": "stream",
     "text": [
      "[0 1 2 3 4 1 5 6] {'you': 0, 'say': 1, 'goodbye': 2, 'and': 3, 'i': 4, 'hello': 5, '.': 6} {0: 'you', 1: 'say', 2: 'goodbye', 3: 'and', 4: 'i', 5: 'hello', 6: '.'}\n"
     ]
    }
   ],
   "source": [
    "text = 'You say goodbye and I say hello.'\n",
    "corpus, word_to_id, id_to_word = preprocess(text)\n",
    "print(corpus, word_to_id, id_to_word)"
   ]
  },
  {
   "cell_type": "markdown",
   "metadata": {},
   "source": [
    "1. 単語の分散表現<br>\n",
    "    単語の意味を捉えたベクトル表現\n",
    "1. 単語の分布仮設 (distributional hypothesis)<br>\n",
    "    自然言語処理において単語をベクトルで表す方法として使われているアイディア。\n",
    "1. 共起行列<br>\n",
    "    分布仮設に基づいて単語をベクトルで表す方法\n",
    "1. ベクトル間の類似度\n",
    "\n",
    "    コサイン類似度(cosine similarity)を用いる\n",
    "$$\n",
    "\\begin{align}\n",
    "similarity(x, y)\n",
    "= \\frac{{\\bf x \\cdot y}}{{\\bf \\|x\\|\\|y\\|}} \n",
    "= \\frac{x_1y_1 + \\cdots + x_ny_n}{\\sqrt{(x_1^2+ \\cdots +x_n^2)}\\sqrt{(y_1^2+ \\cdots + y_n^2}}\n",
    "\\end{align}\n",
    "$$\n",
    "\n",
    "これを素直に実装すると、0ベクトルが引数に来たときに、”0除算”が生じてしまう。これを回避するため、小さな値を除算に加算する。\n"
   ]
  },
  {
   "cell_type": "code",
   "execution_count": 28,
   "metadata": {},
   "outputs": [],
   "source": [
    "def create_co_matrix(corpus, vocab_size, window_size=1):\n",
    "    corpus_size = len(corpus)\n",
    "    co_matrix = np.zeros((vocab_size, vocab_size), dtype=np.int32)\n",
    "    \n",
    "    for idx, word_id in enumerate(corpus):\n",
    "        for i in range(1, window_size + 1):\n",
    "            left_idx = idx - i\n",
    "            right_idx = idx + i\n",
    "            \n",
    "            if left_idx >= 0:\n",
    "                left_word_id = corpus[left_idx]\n",
    "                co_matrix[word_id, left_word_id] += 1\n",
    "                \n",
    "            if right_idx < corpus_size:\n",
    "                right_word_id = corpus[right_idx]\n",
    "                co_matrix[word_id, right_word_id] += 1\n",
    "                \n",
    "    return co_matrix"
   ]
  },
  {
   "cell_type": "code",
   "execution_count": 26,
   "metadata": {},
   "outputs": [],
   "source": [
    "def cos_similarity(x, y, eps=1e-8):\n",
    "    nx = x / np.sqrt(np.sum(x**2) + eps) # xの正規化\n",
    "    ny = y / np.sqrt(np.sum(y**2) + eps) # yの正規化\n",
    "    return np.dot(nx, ny)"
   ]
  },
  {
   "cell_type": "code",
   "execution_count": 29,
   "metadata": {},
   "outputs": [
    {
     "name": "stdout",
     "output_type": "stream",
     "text": [
      "0.7071067811865475\n"
     ]
    }
   ],
   "source": [
    "text = \"You say goodbye and I say hello.\"\n",
    "corpus, word_to_id, id_to_word = preprocess(text)\n",
    "vocab_size = len(word_to_id)\n",
    "C = create_co_matrix(corpus, vocab_size)\n",
    "\n",
    "c0 = C[word_to_id['you']] # you の単語ベクトル\n",
    "c1 = C[word_to_id['i']] # i の単語ベクトル\n",
    "print(cos_similarity(c0, c1))"
   ]
  },
  {
   "cell_type": "code",
   "execution_count": null,
   "metadata": {},
   "outputs": [],
   "source": []
  }
 ],
 "metadata": {
  "kernelspec": {
   "display_name": "Python 3",
   "language": "python",
   "name": "python3"
  },
  "language_info": {
   "codemirror_mode": {
    "name": "ipython",
    "version": 3
   },
   "file_extension": ".py",
   "mimetype": "text/x-python",
   "name": "python",
   "nbconvert_exporter": "python",
   "pygments_lexer": "ipython3",
   "version": "3.6.4"
  }
 },
 "nbformat": 4,
 "nbformat_minor": 2
}
