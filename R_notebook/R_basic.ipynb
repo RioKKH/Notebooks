{
 "cells": [
  {
   "cell_type": "markdown",
   "metadata": {},
   "source": [
    "# 一変量統計"
   ]
  },
  {
   "cell_type": "code",
   "execution_count": 3,
   "metadata": {},
   "outputs": [
    {
     "data": {
      "text/html": [
       "<table>\n",
       "<thead><tr><th scope=col>Sepal.Length</th><th scope=col>Sepal.Width</th><th scope=col>Petal.Length</th><th scope=col>Petal.Width</th><th scope=col>Species</th></tr></thead>\n",
       "<tbody>\n",
       "\t<tr><td>5.1   </td><td>3.5   </td><td>1.4   </td><td>0.2   </td><td>setosa</td></tr>\n",
       "\t<tr><td>4.9   </td><td>3.0   </td><td>1.4   </td><td>0.2   </td><td>setosa</td></tr>\n",
       "\t<tr><td>4.7   </td><td>3.2   </td><td>1.3   </td><td>0.2   </td><td>setosa</td></tr>\n",
       "\t<tr><td>4.6   </td><td>3.1   </td><td>1.5   </td><td>0.2   </td><td>setosa</td></tr>\n",
       "\t<tr><td>5.0   </td><td>3.6   </td><td>1.4   </td><td>0.2   </td><td>setosa</td></tr>\n",
       "\t<tr><td>5.4   </td><td>3.9   </td><td>1.7   </td><td>0.4   </td><td>setosa</td></tr>\n",
       "</tbody>\n",
       "</table>\n"
      ],
      "text/latex": [
       "\\begin{tabular}{r|lllll}\n",
       " Sepal.Length & Sepal.Width & Petal.Length & Petal.Width & Species\\\\\n",
       "\\hline\n",
       "\t 5.1    & 3.5    & 1.4    & 0.2    & setosa\\\\\n",
       "\t 4.9    & 3.0    & 1.4    & 0.2    & setosa\\\\\n",
       "\t 4.7    & 3.2    & 1.3    & 0.2    & setosa\\\\\n",
       "\t 4.6    & 3.1    & 1.5    & 0.2    & setosa\\\\\n",
       "\t 5.0    & 3.6    & 1.4    & 0.2    & setosa\\\\\n",
       "\t 5.4    & 3.9    & 1.7    & 0.4    & setosa\\\\\n",
       "\\end{tabular}\n"
      ],
      "text/markdown": [
       "\n",
       "Sepal.Length | Sepal.Width | Petal.Length | Petal.Width | Species | \n",
       "|---|---|---|---|---|---|\n",
       "| 5.1    | 3.5    | 1.4    | 0.2    | setosa | \n",
       "| 4.9    | 3.0    | 1.4    | 0.2    | setosa | \n",
       "| 4.7    | 3.2    | 1.3    | 0.2    | setosa | \n",
       "| 4.6    | 3.1    | 1.5    | 0.2    | setosa | \n",
       "| 5.0    | 3.6    | 1.4    | 0.2    | setosa | \n",
       "| 5.4    | 3.9    | 1.7    | 0.4    | setosa | \n",
       "\n",
       "\n"
      ],
      "text/plain": [
       "  Sepal.Length Sepal.Width Petal.Length Petal.Width Species\n",
       "1 5.1          3.5         1.4          0.2         setosa \n",
       "2 4.9          3.0         1.4          0.2         setosa \n",
       "3 4.7          3.2         1.3          0.2         setosa \n",
       "4 4.6          3.1         1.5          0.2         setosa \n",
       "5 5.0          3.6         1.4          0.2         setosa \n",
       "6 5.4          3.9         1.7          0.4         setosa "
      ]
     },
     "metadata": {},
     "output_type": "display_data"
    }
   ],
   "source": [
    "# irisのデータを用いて基本的な1変量統計量の求め方をまとめる\n",
    "head(iris)"
   ]
  },
  {
   "cell_type": "code",
   "execution_count": 5,
   "metadata": {},
   "outputs": [
    {
     "data": {
      "text/plain": [
       "  Sepal.Length    Sepal.Width     Petal.Length    Petal.Width   \n",
       " Min.   :4.300   Min.   :2.000   Min.   :1.000   Min.   :0.100  \n",
       " 1st Qu.:5.100   1st Qu.:2.800   1st Qu.:1.600   1st Qu.:0.300  \n",
       " Median :5.800   Median :3.000   Median :4.350   Median :1.300  \n",
       " Mean   :5.843   Mean   :3.057   Mean   :3.758   Mean   :1.199  \n",
       " 3rd Qu.:6.400   3rd Qu.:3.300   3rd Qu.:5.100   3rd Qu.:1.800  \n",
       " Max.   :7.900   Max.   :4.400   Max.   :6.900   Max.   :2.500  \n",
       "       Species  \n",
       " setosa    :50  \n",
       " versicolor:50  \n",
       " virginica :50  \n",
       "                \n",
       "                \n",
       "                "
      ]
     },
     "metadata": {},
     "output_type": "display_data"
    },
    {
     "data": {
      "text/plain": [
       "  Sepal.Length    Sepal.Width   \n",
       " Min.   :4.300   Min.   :2.000  \n",
       " 1st Qu.:5.100   1st Qu.:2.800  \n",
       " Median :5.800   Median :3.000  \n",
       " Mean   :5.843   Mean   :3.057  \n",
       " 3rd Qu.:6.400   3rd Qu.:3.300  \n",
       " Max.   :7.900   Max.   :4.400  "
      ]
     },
     "metadata": {},
     "output_type": "display_data"
    }
   ],
   "source": [
    "summary(iris)\n",
    "summary(iris[1:2]) # Columnを指定できる"
   ]
  },
  {
   "cell_type": "code",
   "execution_count": 6,
   "metadata": {},
   "outputs": [
    {
     "data": {
      "text/plain": [
       "   Min. 1st Qu.  Median    Mean 3rd Qu.    Max. \n",
       "  4.300   5.100   5.800   5.843   6.400   7.900 "
      ]
     },
     "metadata": {},
     "output_type": "display_data"
    }
   ],
   "source": [
    "# データフレームの単一の変数についてもsummaryを出力可能\n",
    "summary(iris$Sepal.Length)"
   ]
  },
  {
   "cell_type": "markdown",
   "metadata": {},
   "source": [
    "## グループ別にデータを要約する"
   ]
  },
  {
   "cell_type": "code",
   "execution_count": 10,
   "metadata": {},
   "outputs": [
    {
     "data": {
      "text/plain": [
       "$`1`\n",
       "   Min. 1st Qu.  Median    Mean 3rd Qu.    Max. \n",
       "    4.6     4.6     4.6     4.6     4.6     4.6 \n",
       "\n",
       "$`1.1`\n",
       "   Min. 1st Qu.  Median    Mean 3rd Qu.    Max. \n",
       "    4.3     4.3     4.3     4.3     4.3     4.3 \n",
       "\n",
       "$`1.2`\n",
       "   Min. 1st Qu.  Median    Mean 3rd Qu.    Max. \n",
       "    5.0     5.2     5.4     5.4     5.6     5.8 \n",
       "\n",
       "$`1.3`\n",
       "   Min. 1st Qu.  Median    Mean 3rd Qu.    Max. \n",
       "  4.400   4.450   4.700   4.843   5.200   5.500 \n",
       "\n",
       "$`1.4`\n",
       "   Min. 1st Qu.  Median    Mean 3rd Qu.    Max. \n",
       "  4.400   4.800   4.900   4.915   5.100   5.500 \n",
       "\n",
       "$`1.5`\n",
       "   Min. 1st Qu.  Median    Mean 3rd Qu.    Max. \n",
       "  4.600   5.000   5.100   5.146   5.300   5.700 \n"
      ]
     },
     "metadata": {},
     "output_type": "display_data"
    }
   ],
   "source": [
    "head(tapply(iris$Sepal.Length, iris$Petal.Length, summary))"
   ]
  },
  {
   "cell_type": "code",
   "execution_count": 9,
   "metadata": {},
   "outputs": [
    {
     "data": {
      "text/plain": [
       "$`1`\n",
       "   Min. 1st Qu.  Median    Mean 3rd Qu.    Max. \n",
       "    4.6     4.6     4.6     4.6     4.6     4.6 \n",
       "\n",
       "$`1.1`\n",
       "   Min. 1st Qu.  Median    Mean 3rd Qu.    Max. \n",
       "    4.3     4.3     4.3     4.3     4.3     4.3 \n",
       "\n",
       "$`1.2`\n",
       "   Min. 1st Qu.  Median    Mean 3rd Qu.    Max. \n",
       "    5.0     5.2     5.4     5.4     5.6     5.8 \n",
       "\n",
       "$`1.3`\n",
       "   Min. 1st Qu.  Median    Mean 3rd Qu.    Max. \n",
       "  4.400   4.450   4.700   4.843   5.200   5.500 \n",
       "\n",
       "$`1.4`\n",
       "   Min. 1st Qu.  Median    Mean 3rd Qu.    Max. \n",
       "  4.400   4.800   4.900   4.915   5.100   5.500 \n",
       "\n",
       "$`1.5`\n",
       "   Min. 1st Qu.  Median    Mean 3rd Qu.    Max. \n",
       "  4.600   5.000   5.100   5.146   5.300   5.700 \n"
      ]
     },
     "metadata": {},
     "output_type": "display_data"
    }
   ],
   "source": [
    "head(by(iris$Sepal.Length, iris$Petal.Length, summary))"
   ]
  },
  {
   "cell_type": "code",
   "execution_count": 13,
   "metadata": {},
   "outputs": [
    {
     "data": {
      "text/plain": [
       "$`1`\n",
       "   Min. 1st Qu.  Median    Mean 3rd Qu.    Max. \n",
       "    4.6     4.6     4.6     4.6     4.6     4.6 \n",
       "\n",
       "$`1.1`\n",
       "   Min. 1st Qu.  Median    Mean 3rd Qu.    Max. \n",
       "    4.3     4.3     4.3     4.3     4.3     4.3 \n",
       "\n",
       "$`1.2`\n",
       "   Min. 1st Qu.  Median    Mean 3rd Qu.    Max. \n",
       "    5.0     5.2     5.4     5.4     5.6     5.8 \n",
       "\n",
       "$`1.3`\n",
       "   Min. 1st Qu.  Median    Mean 3rd Qu.    Max. \n",
       "  4.400   4.450   4.700   4.843   5.200   5.500 \n",
       "\n",
       "$`1.4`\n",
       "   Min. 1st Qu.  Median    Mean 3rd Qu.    Max. \n",
       "  4.400   4.800   4.900   4.915   5.100   5.500 \n",
       "\n",
       "$`1.5`\n",
       "   Min. 1st Qu.  Median    Mean 3rd Qu.    Max. \n",
       "  4.600   5.000   5.100   5.146   5.300   5.700 \n"
      ]
     },
     "metadata": {},
     "output_type": "display_data"
    }
   ],
   "source": [
    "head(by(iris[, 1], iris[, 3], summary))"
   ]
  },
  {
   "cell_type": "code",
   "execution_count": 15,
   "metadata": {
    "code_folding": [
     0
    ]
   },
   "outputs": [
    {
     "data": {
      "text/plain": [
       "$`2`\n",
       "  Sepal.Length\n",
       " Min.   :5    \n",
       " 1st Qu.:5    \n",
       " Median :5    \n",
       " Mean   :5    \n",
       " 3rd Qu.:5    \n",
       " Max.   :5    \n",
       "\n",
       "$`2.2`\n",
       "  Sepal.Length  \n",
       " Min.   :6.000  \n",
       " 1st Qu.:6.000  \n",
       " Median :6.000  \n",
       " Mean   :6.067  \n",
       " 3rd Qu.:6.100  \n",
       " Max.   :6.200  \n",
       "\n",
       "$`2.3`\n",
       "  Sepal.Length  \n",
       " Min.   :4.500  \n",
       " 1st Qu.:4.875  \n",
       " Median :5.250  \n",
       " Mean   :5.325  \n",
       " 3rd Qu.:5.700  \n",
       " Max.   :6.300  \n",
       "\n",
       "$`2.4`\n",
       "  Sepal.Length\n",
       " Min.   :4.9  \n",
       " 1st Qu.:5.2  \n",
       " Median :5.5  \n",
       " Mean   :5.3  \n",
       " 3rd Qu.:5.5  \n",
       " Max.   :5.5  \n",
       "\n",
       "$`2.5`\n",
       "  Sepal.Length  \n",
       " Min.   :4.900  \n",
       " 1st Qu.:5.400  \n",
       " Median :5.650  \n",
       " Mean   :5.763  \n",
       " 3rd Qu.:6.300  \n",
       " Max.   :6.700  \n",
       "\n",
       "$`2.6`\n",
       "  Sepal.Length \n",
       " Min.   :5.50  \n",
       " 1st Qu.:5.70  \n",
       " Median :5.80  \n",
       " Mean   :6.16  \n",
       " 3rd Qu.:6.10  \n",
       " Max.   :7.70  \n"
      ]
     },
     "metadata": {},
     "output_type": "display_data"
    }
   ],
   "source": [
    "head(by(iris[1], iris[2], summary))"
   ]
  },
  {
   "cell_type": "code",
   "execution_count": 21,
   "metadata": {
    "collapsed": true
   },
   "outputs": [],
   "source": [
    "source('my_func.R')"
   ]
  },
  {
   "cell_type": "code",
   "execution_count": 22,
   "metadata": {},
   "outputs": [
    {
     "data": {
      "text/html": [
       "5.8"
      ],
      "text/latex": [
       "5.8"
      ],
      "text/markdown": [
       "5.8"
      ],
      "text/plain": [
       "[1] 5.8"
      ]
     },
     "metadata": {},
     "output_type": "display_data"
    }
   ],
   "source": [
    "median2(iris$Sepal.Length)"
   ]
  },
  {
   "cell_type": "code",
   "execution_count": null,
   "metadata": {
    "collapsed": true
   },
   "outputs": [],
   "source": []
  }
 ],
 "metadata": {
  "kernelspec": {
   "display_name": "R",
   "language": "R",
   "name": "ir"
  },
  "language_info": {
   "codemirror_mode": "r",
   "file_extension": ".r",
   "mimetype": "text/x-r-source",
   "name": "R",
   "pygments_lexer": "r",
   "version": "3.4.3"
  }
 },
 "nbformat": 4,
 "nbformat_minor": 2
}
