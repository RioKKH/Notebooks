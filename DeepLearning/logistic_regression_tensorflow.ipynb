{
 "cells": [
  {
   "cell_type": "markdown",
   "metadata": {},
   "source": [
    "## Tensorflowにおける実装の流れ\n",
    "1. モデルの定義\n",
    "1. 誤差関数の定義\n",
    "1. 最適化手法の定義\n",
    "1. セッションの初期化\n",
    "1. 学習"
   ]
  },
  {
   "cell_type": "code",
   "execution_count": 15,
   "metadata": {
    "collapsed": true
   },
   "outputs": [],
   "source": [
    "import numpy as np\n",
    "import tensorflow as tf"
   ]
  },
  {
   "cell_type": "markdown",
   "metadata": {},
   "source": [
    "尤度関数の偏微分を取りやすくするために対数をとって和の形にする。\n",
    "<br>これを交差エントロピー誤差関数と予備、以下のようにかける\n",
    "<br>この関数を最小化することがもともとの尤度関数を最適化することになる。\n",
    "<br>一般的には、この関数Eのことを誤差関数(error function)、或いは損失関数(loss function)と呼ぶ\n",
    "\n",
    "\n",
    "$$\n",
    "E(\\textbf{w},b) = - \\sum_{n=1}^{N} \\{t_n\\log{y_n}+(1 - t_n)\\log{(1 - y_n)} \\}\n",
    "$$"
   ]
  },
  {
   "cell_type": "code",
   "execution_count": 16,
   "metadata": {},
   "outputs": [],
   "source": [
    "'''\n",
    "モデル設定\n",
    "'''\n",
    "tf.set_random_seed(0) #乱数シード\n",
    "\n",
    "# 入力は2次元、出力は1次元\n",
    "w = tf.Variable(tf.zeros([2, 1]))\n",
    "b = tf.Variable(tf.zeros([1]))\n",
    "\n",
    "# placeholder: データを格納する入れ物。\n",
    "# モデルの定義の時にはデータの次元だけ決めておき、モデルの学習など、\n",
    "# 実際にデータが必要になったタイミングで値を入れて実装の式を評価することを\n",
    "# 可能にしている\n",
    "x = tf.placeholder(tf.float32, shape=[None, 2])\n",
    "t = tf.placeholder(tf.float32, shape=[None, 1])\n",
    "y = tf.nn.sigmoid(tf.matmul(x, w) + b)\n",
    "\n",
    "# 交差エントロピー誤差関数をtensorflowの書式で記述\n",
    "cross_entropy = - tf.reduce_sum(t * tf.log(y) + (1 - t) * tf.log(1 - y))\n",
    "# (確率的)勾配降下法を適用\n",
    "train_step = tf.train.GradientDescentOptimizer(0.1).minimize(cross_entropy)\n",
    "\n",
    "# Y >= 0.5かどうかでニューロンが発火するかどうかを決める\n",
    "correct_prediction = tf.equal(tf.to_float(tf.greater(y, 0.5)), t)"
   ]
  },
  {
   "cell_type": "markdown",
   "metadata": {},
   "source": [
    "ORゲートは以下の表のようになる\n",
    "\n",
    "|x_1|x_2|y|\n",
    "|--|--|--|\n",
    "|0|0|0|\n",
    "|0|1|1|\n",
    "|1|0|1|\n",
    "|1|1|1|\n"
   ]
  },
  {
   "cell_type": "code",
   "execution_count": 18,
   "metadata": {},
   "outputs": [],
   "source": [
    "'''モデル学習'''\n",
    "# ORゲート\n",
    "X = np.array([[0, 0], [0, 1], [1, 0], [1, 1]])\n",
    "Y = np.array([[0], [1], [1], [1]])\n",
    "\n",
    "# 初期化\n",
    "# Tensorflowではセッションというデータのやり取りの流れの中で計算が行われる\n",
    "init = tf.global_variables_initializer()\n",
    "sess = tf.Session()\n",
    "sess.run(init)\n",
    "\n",
    "# 学習\n",
    "# sess.run(train_step)は勾配降下法による学習に相当するが、\n",
    "# その際にfeed_dictを書くことによってplacefolderであるx, tに実際の値を代入している\n",
    "# ここではエポック数を200に設定している\n",
    "for epoch in range(200):\n",
    "    sess.run(train_step, feed_dict={\n",
    "        x: X,\n",
    "        t: Y\n",
    "    })"
   ]
  },
  {
   "cell_type": "code",
   "execution_count": 20,
   "metadata": {},
   "outputs": [
    {
     "name": "stdout",
     "output_type": "stream",
     "text": [
      "classified:\n",
      "[[ True]\n",
      " [ True]\n",
      " [ True]\n",
      " [ True]]\n",
      "\n",
      "output probability\n",
      "[[0.22355038]\n",
      " [0.9142595 ]\n",
      " [0.9142595 ]\n",
      " [0.99747425]]\n"
     ]
    }
   ],
   "source": [
    "'''\n",
    "学習結果の確認\n",
    "'''\n",
    "classfied = correct_prediction.eval(session=sess, feed_dict={\n",
    "    x: X,\n",
    "    t: Y\n",
    "})\n",
    "\n",
    "prob = y.eval(session=sess, feed_dict={\n",
    "    x: X\n",
    "})\n",
    "\n",
    "print('classified:')\n",
    "print(classfied)\n",
    "print()\n",
    "print('output probability')\n",
    "print(prob)"
   ]
  }
 ],
 "metadata": {
  "kernelspec": {
   "display_name": "Python 3",
   "language": "python",
   "name": "python3"
  },
  "language_info": {
   "codemirror_mode": {
    "name": "ipython",
    "version": 3
   },
   "file_extension": ".py",
   "mimetype": "text/x-python",
   "name": "python",
   "nbconvert_exporter": "python",
   "pygments_lexer": "ipython3",
   "version": "3.6.3"
  }
 },
 "nbformat": 4,
 "nbformat_minor": 2
}
