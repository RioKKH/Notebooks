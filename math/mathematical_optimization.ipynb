{
 "cells": [
  {
   "cell_type": "markdown",
   "metadata": {},
   "source": [
    "# 数理最適化\n",
    "## 線形計画法"
   ]
  },
  {
   "cell_type": "markdown",
   "metadata": {},
   "source": [
    "$\n",
    "\\begin{align}\n",
    "Maximize\\ &3x + 4y \\\\\n",
    "Subject\\ to \\ &x+4y \\le 1700 \\\\\n",
    "&2x+3y \\le 1400 \\\\\n",
    "&2x+y \\le 1000 \\\\\n",
    "&x \\ge 0 \\\\\n",
    "&y \\ge 0 \\\\\n",
    "\\end{align}\n",
    "$"
   ]
  },
  {
   "cell_type": "markdown",
   "metadata": {},
   "source": [
    "### 線形計画法の一般型"
   ]
  },
  {
   "cell_type": "markdown",
   "metadata": {},
   "source": [
    "$\n",
    "\\begin{align}\n",
    "Minimize\\ &{\\bf c}^{\\mathsf{T}}{\\bf x} \\\\\n",
    "Subject\\ to\\ &{\\bf Gx} \\le {\\bf h} \\\\\n",
    "&{\\bf Ax} = {\\bf b} \\\\\n",
    "\\end{align}\n",
    "$"
   ]
  },
  {
   "cell_type": "markdown",
   "metadata": {},
   "source": [
    "これに当てはめると"
   ]
  },
  {
   "cell_type": "markdown",
   "metadata": {},
   "source": [
    "$\n",
    "\\begin{align}\n",
    "Minmize\\  &\\left(\n",
    "        \\begin{array}{c}\n",
    "            -3 \\\\\n",
    "            -4\n",
    "        \\end{array}\n",
    "    \\right)\n",
    "    ^{\\mathsf T}\n",
    "    \\left(\n",
    "        \\begin{array}{c}\n",
    "            x \\\\\n",
    "            y\n",
    "        \\end{array}\n",
    "    \\right) \\\\\n",
    "Subject\\ to\\ &\\left(\n",
    "    \\begin{array}{cc}\n",
    "        1 & 4 \\\\\n",
    "        2 & 3 \\\\\n",
    "        2 & 1 \\\\\n",
    "        -1 & 0 \\\\\n",
    "        0 & -1\n",
    "    \\end{array}\n",
    "    \\right)\n",
    "    \\left(\n",
    "        \\begin{array}{c}\n",
    "            x \\\\\n",
    "            y\n",
    "        \\end{array}\n",
    "    \\right)\n",
    "    \\le\n",
    "    \\left(\n",
    "        \\begin{array}{c}\n",
    "            1700 \\\\\n",
    "            1400 \\\\\n",
    "            1000 \\\\\n",
    "            0 \\\\\n",
    "            0\n",
    "        \\end{array}\n",
    "    \\right)\n",
    "\\end{align}\n",
    "$"
   ]
  },
  {
   "cell_type": "markdown",
   "metadata": {},
   "source": [
    "つまり"
   ]
  },
  {
   "cell_type": "markdown",
   "metadata": {},
   "source": [
    "$\n",
    "\\begin{align}\n",
    "{\\bf c} =\n",
    "    \\left(\n",
    "    \\begin{array}{c}\n",
    "        -3 \\\\\n",
    "        -4\n",
    "    \\end{array}\n",
    "    \\right),\\ \n",
    "{\\bf G} =\n",
    "    \\left(\n",
    "        \\begin{array}{cc}\n",
    "            1 & 4 \\\\\n",
    "            2 & 3 \\\\\n",
    "            2 & 1 \\\\\n",
    "            -1 & 0 \\\\\n",
    "            0 & -1\n",
    "        \\end{array}\n",
    "    \\right),\\ \n",
    "{\\bf h} =\n",
    "   \\left(\n",
    "       \\begin{array}{c}\n",
    "           1700 \\\\\n",
    "           1400 \\\\\n",
    "           1000 \\\\\n",
    "           0 \\\\\n",
    "           0\\\\\n",
    "       \\end{array}\n",
    "   \\right)\n",
    "\\end{align}\n",
    "$"
   ]
  },
  {
   "cell_type": "code",
   "execution_count": 6,
   "metadata": {},
   "outputs": [
    {
     "name": "stdout",
     "output_type": "stream",
     "text": [
      "[399.99988463 199.99996114]\n",
      "-1999.9994984688606\n"
     ]
    }
   ],
   "source": [
    "import numpy as np\n",
    "from scipy import optimize\n",
    "\n",
    "c = np.array([-3, -4], dtype=np.float64)\n",
    "G = np.array([[1, 4], [2, 3], [2, 1], [-1, 0], [0, -1]], dtype=np.float64)\n",
    "h = np.array([1700, 1400, 1000, 0, 0], np.float64)\n",
    "sol = optimize.linprog(c, A_ub=G, b_ub=h, bounds=(0, None))\n",
    "\n",
    "print(sol.x)\n",
    "print(sol.fun)"
   ]
  },
  {
   "cell_type": "markdown",
   "metadata": {},
   "source": [
    "## 2次計画法"
   ]
  },
  {
   "cell_type": "markdown",
   "metadata": {},
   "source": [
    "以下の様な2変数の2次関数の最小値を求めるような問題を2次計画問題と呼ぶ。\n",
    "$$\n",
    "\\begin{align}\n",
    "f(x, y) = x^2 + xy + y^2 + 2x + 4y\n",
    "\\end{align}\n",
    "$$"
   ]
  },
  {
   "cell_type": "markdown",
   "metadata": {},
   "source": [
    "一般の2次計画問題は以下の様に書くことが出来る。\n",
    "$$\n",
    "\\begin{align}\n",
    "Minimize\\ \\ &\\frac{1}{2}{\\bf x^{\\mathsf T}Px + q^{\\mathsf T}x} \\\\\n",
    "Subject\\ to\\ \\ &{\\bf Ax = b} \\\\\n",
    "&{\\bf Gx \\le h}\n",
    "\\end{align}\n",
    "$$"
   ]
  },
  {
   "cell_type": "markdown",
   "metadata": {},
   "source": [
    "`cvxopt`モジュールを用いて2次計画問題を解くことを考える。  \n",
    "`cvxopt`では制約条件なしの2次計画問題の標準形として以下の形を仮定している"
   ]
  },
  {
   "cell_type": "markdown",
   "metadata": {},
   "source": [
    "$$\n",
    "\\begin{align}\n",
    "\\frac{1}{2}{\\bf x^{\\top}Px}\n",
    "\\end{align}\n",
    "$$"
   ]
  },
  {
   "cell_type": "markdown",
   "metadata": {},
   "source": [
    "$$\n",
    "\\begin{align}\n",
    "    f(x, y) = \\frac{1}{2} \n",
    "    \\begin{pmatrix} x & y \\end{pmatrix}\n",
    "    \\begin{pmatrix} 2 & 1 \\\\ 1 & 2 \\end{pmatrix}\n",
    "    \\begin{pmatrix} x \\\\ y \\end{pmatrix}\n",
    "    + \n",
    "    \\begin{pmatrix} 2 & 4 \\end{pmatrix}\n",
    "    \\begin{pmatrix} x \\\\ y \\end{pmatrix}\n",
    "\\end{align} \\\\\n",
    "\\therefore\n",
    "{\\bf P} = \\begin{pmatrix} 2 & 1 \\\\ 1 & 2 \\end{pmatrix},\n",
    "{\\bf q} = \\begin{pmatrix} 2 \\\\ 4 \\end{pmatrix}\n",
    "$$\n"
   ]
  },
  {
   "cell_type": "code",
   "execution_count": 5,
   "metadata": {},
   "outputs": [
    {
     "name": "stdout",
     "output_type": "stream",
     "text": [
      "[[ 2.22044605e-16]\n",
      " [-2.00000000e+00]]\n",
      "-4.0\n"
     ]
    }
   ],
   "source": [
    "import numpy as np\n",
    "import cvxopt\n",
    "\n",
    "P = cvxopt.matrix(np.array([[2, 1], [1, 2]], dtype=np.float64))\n",
    "q = cvxopt.matrix(np.array([2, 4], dtype=np.float64))\n",
    "\n",
    "sol = cvxopt.solvers.qp(P, q)\n",
    "\n",
    "#print(sol)\n",
    "print(np.array(sol[\"x\"]))\n",
    "print(np.array(sol[\"primal objective\"]))"
   ]
  },
  {
   "cell_type": "markdown",
   "metadata": {},
   "source": [
    "## 制約条件付き問題"
   ]
  },
  {
   "cell_type": "markdown",
   "metadata": {},
   "source": [
    "`cvxopt`に制約条件として入力出来るのは次のような式"
   ]
  },
  {
   "cell_type": "markdown",
   "metadata": {},
   "source": [
    "$$\n",
    "{\\bf Ax = b,\\ Gx \\le h}\n",
    "$$"
   ]
  },
  {
   "cell_type": "markdown",
   "metadata": {},
   "source": [
    "### 制約条件が等号式の場合\n",
    "$$\n",
    "{\\bf Ax = b}\n",
    "$$"
   ]
  },
  {
   "cell_type": "markdown",
   "metadata": {},
   "source": [
    "$$\n",
    "\\begin{align}\n",
    "&Minimize\\ f(x, y) = x^2 + xy + y^2 +2x + 4y \\\\\n",
    "&Subject\\ to\\ x + y = 0 \\\\ \n",
    "\\end{align}\n",
    "$$"
   ]
  },
  {
   "cell_type": "code",
   "execution_count": 6,
   "metadata": {},
   "outputs": [
    {
     "name": "stdout",
     "output_type": "stream",
     "text": [
      "[[ 1.]\n",
      " [-1.]]\n",
      "-1.0000000000000016\n"
     ]
    }
   ],
   "source": [
    "import numpy as np\n",
    "import cvxopt\n",
    "\n",
    "P = cvxopt.matrix(np.array([[2, 1], [1, 2]], dtype=np.float64))\n",
    "q = cvxopt.matrix(np.array([2, 4], dtype=np.float64))\n",
    "A = cvxopt.matrix(np.array([[1, 1]], dtype=np.float64))\n",
    "b = cvxopt.matrix(np.array([0], dtype=np.float64))\n",
    "\n",
    "sol = cvxopt.solvers.qp(P, q, A=A, b=b)\n",
    "\n",
    "print(np.array(sol[\"x\"]))\n",
    "print(np.array(sol[\"primal objective\"]))"
   ]
  },
  {
   "cell_type": "markdown",
   "metadata": {},
   "source": [
    "ここで、$x+y=0$という条件は\n",
    "$$\n",
    "\\begin{pmatrix} 1 & 1 \\end{pmatrix}\n",
    "\\begin{pmatrix} x \\\\ y \\end{pmatrix}\n",
    "= 0\n",
    "$$\n",
    "と同値なので、\n",
    "$$\n",
    "{\\bf A} = \\begin{pmatrix} 1 & 1 \\end{pmatrix},\\ \n",
    "{\\bf b} = \\begin{pmatrix} 0 \\end{pmatrix}\n",
    "$$\n",
    "としている"
   ]
  },
  {
   "cell_type": "markdown",
   "metadata": {},
   "source": [
    "### 制約条件が不等号式の場合\n",
    "$$\n",
    "\\begin{align}\n",
    "&{\\bf Gx \\le h}\n",
    "\\end{align}\n",
    "$$"
   ]
  },
  {
   "cell_type": "markdown",
   "metadata": {},
   "source": [
    "$$\n",
    "\\begin{align}\n",
    "&Minimize\\ f(x, y) = x^2 + xy + y^2 + 2x + 4y \\\\\n",
    "&Subject\\ to\\ 2x + 3y \\le 3\n",
    "\\end{align}\n",
    "$$"
   ]
  },
  {
   "cell_type": "code",
   "execution_count": 7,
   "metadata": {},
   "outputs": [
    {
     "name": "stdout",
     "output_type": "stream",
     "text": [
      "     pcost       dcost       gap    pres   dres\n",
      " 0:  1.8858e+00  2.9758e-01  2e+00  5e-18  2e+00\n",
      " 1: -2.1066e+00 -2.1546e+00  5e-02  2e-16  7e-01\n",
      " 2: -3.9999e+00 -4.0665e+00  7e-02  3e-16  2e-16\n",
      " 3: -4.0000e+00 -4.0007e+00  7e-04  1e-15  1e-16\n",
      " 4: -4.0000e+00 -4.0000e+00  7e-06  3e-16  6e-17\n",
      " 5: -4.0000e+00 -4.0000e+00  7e-08  9e-16  2e-16\n",
      "Optimal solution found.\n",
      "[[-2.45940172e-09]\n",
      " [-2.00000001e+00]]\n",
      "-4.0\n"
     ]
    }
   ],
   "source": [
    "import numpy as np\n",
    "import cvxopt\n",
    "\n",
    "P = cvxopt.matrix(np.array([[2, 1], [1, 2]], dtype=np.float64))\n",
    "q = cvxopt.matrix(np.array([2, 4], dtype=np.float64))\n",
    "G = cvxopt.matrix(np.array([[2, 3]], dtype=np.float64))\n",
    "h = cvxopt.matrix(np.array([3], dtype=np.float64))\n",
    "\n",
    "sol = cvxopt.solvers.qp(P, q, G=G, h=h)\n",
    "\n",
    "print(np.array(sol[\"x\"]))\n",
    "print(np.array(sol[\"primal objective\"]))"
   ]
  },
  {
   "cell_type": "markdown",
   "metadata": {},
   "source": [
    "$2x + 3y \\le 3$という式は\n",
    "$$\n",
    "\\begin{pmatrix} 2 & 3 \\end{pmatrix}\n",
    "\\begin{pmatrix} x \\\\ y \\end{pmatrix}\n",
    "\\le 3\n",
    "$$\n",
    "で表せるので\n",
    "$$\n",
    "{\\bf G} = \\begin{pmatrix} 2 & 3 \\end{pmatrix},\\ \n",
    "{\\bf h} = \\begin{pmatrix} 3 \\end{pmatrix}\n",
    "$$\n",
    "と考えられる。"
   ]
  },
  {
   "cell_type": "code",
   "execution_count": null,
   "metadata": {},
   "outputs": [],
   "source": []
  }
 ],
 "metadata": {
  "kernelspec": {
   "display_name": "Python 3",
   "language": "python",
   "name": "python3"
  },
  "language_info": {
   "codemirror_mode": {
    "name": "ipython",
    "version": 3
   },
   "file_extension": ".py",
   "mimetype": "text/x-python",
   "name": "python",
   "nbconvert_exporter": "python",
   "pygments_lexer": "ipython3",
   "version": "3.7.3"
  }
 },
 "nbformat": 4,
 "nbformat_minor": 4
}
