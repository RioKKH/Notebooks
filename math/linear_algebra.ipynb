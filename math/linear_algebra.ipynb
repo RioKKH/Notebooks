{
 "cells": [
  {
   "cell_type": "markdown",
   "metadata": {},
   "source": [
    "# **線形代数**"
   ]
  },
  {
   "cell_type": "code",
   "execution_count": 4,
   "metadata": {},
   "outputs": [],
   "source": [
    "import numpy as np\n",
    "from scipy import linalg"
   ]
  },
  {
   "cell_type": "code",
   "execution_count": 6,
   "metadata": {},
   "outputs": [
    {
     "data": {
      "text/plain": [
       "array([[ 0.42857143, -0.28571429, -0.14285714],\n",
       "       [-0.14285714,  0.42857143, -0.28571429],\n",
       "       [-0.14285714,  0.42857143,  0.71428571]])"
      ]
     },
     "execution_count": 6,
     "metadata": {},
     "output_type": "execute_result"
    }
   ],
   "source": [
    "a = np.array([[3, 1, 1], [1, 2, 1], [0, -1, 1]])\n",
    "b = np.array([1, 2, 3])\n",
    "np.linalg.inv(a) # 逆行列"
   ]
  },
  {
   "cell_type": "code",
   "execution_count": 7,
   "metadata": {},
   "outputs": [
    {
     "data": {
      "text/plain": [
       "array([-0.57142857, -0.14285714,  2.85714286])"
      ]
     },
     "execution_count": 7,
     "metadata": {},
     "output_type": "execute_result"
    }
   ],
   "source": [
    "np.linalg.solve(a, b)"
   ]
  },
  {
   "cell_type": "markdown",
   "metadata": {},
   "source": [
    "LU分解\n",
    "\n",
    "$$\n",
    "\\begin{align}\n",
    "A = PLU\n",
    "\\end{align}\n",
    "$$\n",
    "\n",
    "ときたい方程式は ${\\bf Ax}={\\bf b}$ なので、\n",
    "\n",
    "$$\n",
    "\\begin{align}\n",
    "{\\bf Pz} &= {\\bf b} \\\\\n",
    "{\\bf Ly} &= {\\bf z} \\\\\n",
    "{\\bf Ux} &= {\\bf y}\n",
    "\\end{align}\n",
    "$$"
   ]
  },
  {
   "cell_type": "markdown",
   "metadata": {},
   "source": [
    "LU分解により連立方程式を解く方法"
   ]
  },
  {
   "cell_type": "code",
   "execution_count": 8,
   "metadata": {},
   "outputs": [
    {
     "data": {
      "text/plain": [
       "array([-0.57142857, -0.14285714,  2.85714286])"
      ]
     },
     "execution_count": 8,
     "metadata": {},
     "output_type": "execute_result"
    }
   ],
   "source": [
    "a = np.array([[3, 1, 1], [1, 2, 1], [0, -1, 1]])\n",
    "b = np.array([1, 2, 3])\n",
    "\n",
    "lu, p = linalg.lu_factor(a)\n",
    "linalg.lu_solve((lu, p), b)"
   ]
  },
  {
   "cell_type": "code",
   "execution_count": null,
   "metadata": {},
   "outputs": [],
   "source": []
  }
 ],
 "metadata": {
  "kernelspec": {
   "display_name": "Python 3",
   "language": "python",
   "name": "python3"
  },
  "language_info": {
   "codemirror_mode": {
    "name": "ipython",
    "version": 3
   },
   "file_extension": ".py",
   "mimetype": "text/x-python",
   "name": "python",
   "nbconvert_exporter": "python",
   "pygments_lexer": "ipython3",
   "version": "3.7.3"
  }
 },
 "nbformat": 4,
 "nbformat_minor": 4
}
