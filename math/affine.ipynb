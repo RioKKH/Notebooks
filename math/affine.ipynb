{
 "cells": [
  {
   "cell_type": "markdown",
   "metadata": {},
   "source": [
    "$$\n",
    "\\begin{pmatrix}\n",
    "X_{1} \\\\\n",
    "Y_{1} \\\\\n",
    "\\end{pmatrix}\n",
    "=\n",
    "\\begin{pmatrix}\n",
    "a & b \\\\\n",
    "c & d \\\\\n",
    "\\end{pmatrix}\n",
    "\\begin{pmatrix}\n",
    "x_{1} \\\\\n",
    "y_{1} \\\\\n",
    "\\end{pmatrix}\n",
    "+\n",
    "\\begin{pmatrix}\n",
    "e \\\\\n",
    "f \\\\\n",
    "\\end{pmatrix}\n",
    "+ \\boldsymbol{\\epsilon}\n",
    "$$"
   ]
  },
  {
   "cell_type": "markdown",
   "metadata": {},
   "source": [
    "$$\n",
    "\\begin{pmatrix}\n",
    "X_{n} \\\\\n",
    "Y_{n} \\\\\n",
    "\\end{pmatrix}\n",
    "=\n",
    "\\begin{pmatrix}\n",
    "a & b \\\\\n",
    "c & d \\\\\n",
    "\\end{pmatrix}\n",
    "\\begin{pmatrix}\n",
    "x_{n} \\\\\n",
    "y_{n} \\\\\n",
    "\\end{pmatrix}\n",
    "+\n",
    "\\begin{pmatrix}\n",
    "e \\\\\n",
    "f \\\\\n",
    "\\end{pmatrix}\n",
    "+ \\boldsymbol{\\epsilon}\n",
    "$$"
   ]
  },
  {
   "cell_type": "markdown",
   "metadata": {},
   "source": [
    "$$\n",
    "\\begin{pmatrix}\n",
    "X_{1} \\\\ X_{2} \\\\ \\vdots \\\\ X_{n} \\\\\n",
    "Y_{1} \\\\ Y_{2} \\\\ \\vdots \\\\ Y_{n}\n",
    "\\end{pmatrix}\n",
    "=\n",
    "\\begin{pmatrix}\n",
    "x_{1} & y_{1} & 0 & 0 & 1 & 0 \\\\\n",
    "x_{2} & y_{2} & 0 & 0 & 1 & 0 \\\\\n",
    "\\vdots & & \\ddots & & & \\vdots \\\\\n",
    "x_{n} & y_{n} & 0 & 0 & 1 & 0 \\\\\n",
    "0 & 0 & x_{1} & y_{1} & 0 & 1 \\\\\n",
    "0 & 0 & x_{2} & y_{2} & 0 & 1 \\\\\n",
    "\\vdots & & \\ddots & & & \\vdots \\\\\n",
    "0 & 0 & x_{n} & y_{n} & 0 & 1 \\\\\n",
    "\\end{pmatrix}\n",
    "\\begin{pmatrix}\n",
    "a \\\\ b \\\\ c \\\\ d \\\\ e \\\\ f\n",
    "\\end{pmatrix}\n",
    "+\n",
    "\\boldsymbol{\\epsilon}\n",
    "$$"
   ]
  },
  {
   "cell_type": "markdown",
   "metadata": {},
   "source": [
    "$$\n",
    "\\begin{pmatrix}\n",
    "\\hat{X_{1}} \\\\ \\hat{X_{2}} \\\\ \\vdots \\\\ \\hat{X_{n}} \\\\\n",
    "\\hat{Y_{1}} \\\\ \\hat{Y_{2}} \\\\ \\vdots \\\\ \\hat{Y_{n}}\n",
    "\\end{pmatrix}\n",
    "=\n",
    "\\begin{pmatrix}\n",
    "x_{1} & y_{1} & 0 & 0 & 1 & 0 \\\\\n",
    "x_{2} & y_{2} & 0 & 0 & 1 & 0 \\\\\n",
    "\\vdots & & \\ddots & & & \\vdots \\\\\n",
    "x_{n} & y_{n} & 0 & 0 & 1 & 0 \\\\\n",
    "0 & 0 & x_{1} & y_{1} & 0 & 1 \\\\\n",
    "0 & 0 & x_{2} & y_{2} & 0 & 1 \\\\\n",
    "\\vdots & & \\ddots & & & \\vdots \\\\\n",
    "0 & 0 & x_{n} & y_{n} & 0 & 1 \\\\\n",
    "\\end{pmatrix}\n",
    "\\begin{pmatrix}\n",
    "a \\\\ b \\\\ c \\\\ d \\\\ e \\\\ f\n",
    "\\end{pmatrix}\n",
    "$$"
   ]
  },
  {
   "cell_type": "markdown",
   "metadata": {},
   "source": [
    "$$\n",
    "{\\bf X^{\\top}Xw} = {\\bf X^{\\top}y}\n",
    "$$"
   ]
  },
  {
   "cell_type": "code",
   "execution_count": null,
   "metadata": {},
   "outputs": [],
   "source": []
  },
  {
   "cell_type": "code",
   "execution_count": null,
   "metadata": {},
   "outputs": [],
   "source": []
  },
  {
   "cell_type": "markdown",
   "metadata": {},
   "source": [
    "$$\n",
    "\\begin{eqnarray}\n",
    "\\begin{pmatrix}\n",
    "x_{1} & x_{2} & \\cdots & x_{n} & 0 & 0 & \\cdots & 0 \\\\\n",
    "y_{1} & y_{2} & \\cdots & x_{n} & 0 & 0 & \\cdots & 0 \\\\\n",
    "0     & 0     & \\cdots & 0     & x_{1} & x_{2} & \\cdots & x_{n} \\\\\n",
    "0     & 0     & \\cdots & 0     & y_{1} & y_{2} & \\cdots & y_{n} \\\\\n",
    "1     & 1     & \\cdots & 1     & 0 & 0 & \\cdots & 0 \\\\\n",
    "0     & 0     & \\cdots & 0     & 1 & 1 & \\cdots & 1\n",
    "\\end{pmatrix}\n",
    "\\begin{pmatrix}\n",
    "x_{1} & y_{1} & 0 & 0 & 1 & 0 \\\\\n",
    "x_{2} & y_{2} & 0 & 0 & 1 & 0 \\\\\n",
    "\\vdots & & \\ddots & & & \\vdots \\\\\n",
    "x_{n} & y_{n} & 0 & 0 & 1 & 0 \\\\\n",
    "0 & 0 & x_{1} & y_{1} & 0 & 1 \\\\\n",
    "0 & 0 & x_{2} & y_{2} & 0 & 1 \\\\\n",
    "\\vdots & & \\ddots & & & \\vdots \\\\\n",
    "0 & 0 & x_{n} & y_{n} & 0 & 1 \\\\\n",
    "\\end{pmatrix}\n",
    "\\begin{pmatrix}\n",
    "a \\\\ b \\\\ c \\\\ d \\\\ e \\\\ f\n",
    "\\end{pmatrix}\n",
    "&=&\n",
    "\\begin{pmatrix}\n",
    "x_{1} & x_{2} & \\cdots & x_{n} & 0 & 0 & \\cdots & 0 \\\\\n",
    "y_{1} & y_{2} & \\cdots & x_{n} & 0 & 0 & \\cdots & 0 \\\\\n",
    "0     & 0     & \\cdots & 0     & x_{1} & x_{2} & \\cdots & x_{n} \\\\\n",
    "0     & 0     & \\cdots & 0     & y_{1} & y_{2} & \\cdots & y_{n} \\\\\n",
    "1     & 1     & \\cdots & 1     & 0 & 0 & \\cdots & 0 \\\\\n",
    "0     & 0     & \\cdots & 0     & 1 & 1 & \\cdots & 1\n",
    "\\end{pmatrix}\n",
    "\\begin{pmatrix}\n",
    "X_{1} \\\\ X_{2} \\\\ \\vdots \\\\ X_{n} \\\\\n",
    "Y_{1} \\\\ Y_{2} \\\\ \\vdots \\\\ Y_{n}\n",
    "\\end{pmatrix} \\\\\n",
    "\\begin{pmatrix}\n",
    "\\sum_{i=1}^{n}{x_{i}^2} & \\sum_{i=1}^{n}{x_{i}y_{i}} & 0 & 0 & \\sum_{i-1}^{n}{x_{i}} & 0 \\\\\n",
    "\\sum_{i=1}^{n}{x_{i}y_{i}} & \\sum_{i=1}^{n}{y_{i}^2} & 0 & 0 & \\sum_{i-1}^{n}{y_{i}} & 0 \\\\\n",
    "0 & 0 & \\sum_{i=1}^{n}{x_{i}^2} & \\sum_{i=1}^{n}{x_{i}y_{i}} & 0 & \\sum_{i=1}^{n}{x_{i}} \\\\\n",
    "0 & 0 & \\sum_{i=1}^{n}{x_{i}y_{i}} & \\sum_{i=1}^{n}{y_{i}^2} & 0 & \\sum_{i=1}^{n}{y_{i}} \\\\\n",
    "\\sum_{i=1}^{n}{x_{i}} & \\sum_{i=1}^{n}{y_{i}} & 0 & 0 & n & 0 \\\\\n",
    "0 & 0 & \\sum_{i=1}^{n}{x_{i}} & \\sum_{i=1}^{n}{y_{i}} & 0 & n \\\\\n",
    "\\end{pmatrix}\n",
    "\\begin{pmatrix}\n",
    "a \\\\ b \\\\ c \\\\ d \\\\ e \\\\ f\n",
    "\\end{pmatrix}\n",
    "&=&\n",
    "\\begin{pmatrix}\n",
    "\\sum_{i=1}^{n}x_iX_i \\\\\n",
    "\\sum_{i=1}^{n}y_iX_i \\\\\n",
    "\\sum_{i=1}^{n}x_iY_i \\\\\n",
    "\\sum_{i=1}^{n}y_iY_i \\\\\n",
    "\\sum_{i=1}^{n}X_i \\\\\n",
    "\\sum_{i=1}^{n}Y_i \\\\\n",
    "\\end{pmatrix} \\\\\n",
    "\\end{eqnarray}\n",
    "$$"
   ]
  },
  {
   "cell_type": "markdown",
   "metadata": {},
   "source": [
    "$$\n",
    "{\\bf y = Xw} + \\boldsymbol{\\epsilon} \\\\  \n",
    "{\\bf \\hat{y} = Xw}\n",
    "$$"
   ]
  },
  {
   "cell_type": "markdown",
   "metadata": {},
   "source": [
    "このとき、${\\bf X}$を**計画行列**と言う"
   ]
  },
  {
   "cell_type": "markdown",
   "metadata": {},
   "source": [
    "データ全体での誤差$E$は\n",
    "$$\n",
    "\\begin{eqnarray}\n",
    "E &=& \\sum_{n=1}^{N}{(y_n - \\hat{y_n})^2}\\\\\n",
    "&=& \\sum_{n=1}^{N}{(y_n - {\\bf w^{\\top}x_{n}})^2} \n",
    "= \\sum_{n=1}^{N}{(y_n - {\\bf x_{n}^{\\top}w})^2} \\\\\n",
    "&=& ({\\bf y - Xw})^{\\top}({\\bf y - Xw}) \\\\\n",
    "&=& {\\bf y^{\\top}y - y^{\\top}(Xw) - (Xw)^{\\top}y +\n",
    "(Xw)^{\\top}Xw} \\\\\n",
    "&=& {\\bf y^{\\top}y - (Xw)^{\\top}y - (Xw)^{\\top}y +\n",
    "w^{\\top}X^{\\top}Xw} \\\\\n",
    "&=& {\\bf y^{\\top}y - w^{\\top}X^{\\top}y - w^{\\top}X^{\\top}y +\n",
    "w^{\\top}X^{\\top}Xw} \\\\\n",
    "&=& {\\bf y^{\\top}y - 2w^{\\top}X^{\\top}y + w^{\\top}X^{\\top}Xw} \\\\\n",
    "\\end{eqnarray}\n",
    "$$\n"
   ]
  },
  {
   "cell_type": "markdown",
   "metadata": {},
   "source": [
    "ベクトルの2次形式の微分の公式\n",
    "$$\n",
    "{\\frac{\\partial}{\\partial {\\bf w}}{\\bf w}^{\\top}A{\\bf w}} = (A + A^{\\top}){\\bf w}\n",
    "$$\n",
    "を用いると、"
   ]
  },
  {
   "cell_type": "markdown",
   "metadata": {},
   "source": [
    "$$\n",
    "\\begin{eqnarray}\n",
    "\\frac{\\partial E}{\\partial {\\bf w}}\n",
    "&=& -2{\\bf X^{\\top}y} + ({\\bf X^{\\top}X+(X^{\\top}X)^{\\top})w} \\\\\n",
    "&=& -2{\\bf X^{\\top}y} + 2{\\bf X^{\\top}Xw} \\\\\n",
    "\\end{eqnarray}\n",
    "$$"
   ]
  },
  {
   "cell_type": "markdown",
   "metadata": {},
   "source": [
    "${\\partial/\\partial {\\bf w}} = 0$\n",
    "となるところで誤差$E$は最小となるので、上式より\n",
    "$$\n",
    "{\\bf X^{\\top}Xw = X^{\\top}y}\n",
    "$$\n",
    "${\\bf X^{\\top}X}$が逆行列${\\bf (X^{\\top}X})^{-1}$を持つ時、\n",
    "$$\n",
    "{\\bf w = (X^{\\top}X)^{-1}X^{\\top}y}\n",
    "$$"
   ]
  },
  {
   "cell_type": "code",
   "execution_count": null,
   "metadata": {},
   "outputs": [],
   "source": []
  }
 ],
 "metadata": {
  "kernelspec": {
   "display_name": "Python 3",
   "language": "python",
   "name": "python3"
  },
  "language_info": {
   "codemirror_mode": {
    "name": "ipython",
    "version": 3
   },
   "file_extension": ".py",
   "mimetype": "text/x-python",
   "name": "python",
   "nbconvert_exporter": "python",
   "pygments_lexer": "ipython3",
   "version": "3.7.0"
  }
 },
 "nbformat": 4,
 "nbformat_minor": 2
}
