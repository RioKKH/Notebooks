{
 "cells": [
  {
   "cell_type": "markdown",
   "metadata": {},
   "source": [
    "### 強化学習のメリット・デメリット\n",
    "- 教師あり学習とことなる点\n",
    "    - 単体ではなく、全体の報酬(正解)で最適化を行う\n",
    "    - 行動の評価方法と行動の選び方(戦略)を学習する\n",
    "- エピソード\n",
    "    - 強化学習に与えられた環境の開始から終了までの期間\n",
    "    "
   ]
  },
  {
   "cell_type": "markdown",
   "metadata": {},
   "source": [
    "### Markov Decision Process\n",
    "* マルコフ性\n",
    "    - マルコフ性とは未来の状態が現在の状態だけに依存して決まることを言う\n",
    "    - ある事象の確率がその直前のN個の事象だけに依存するときに、これをN階マルコフ連鎖という\n",
    "    - 強化学習の観点から言うと、マルコフ性とは\n",
    "        「遷移先の状態は直前の状態とそこでの行動のみに依存する。報酬は、直前の状態と繊維先に依存する」\n",
    "* マルコフ決定過程 (Markov Dedision Process : MDP)\n",
    "    - $s$ : 状態(State)\n",
    "    - $a$ : 行動(Action)\n",
    "    - $T$ : 状態遷移の確率(Transition function)\n",
    "    - $R$ : 即時報酬 Immediate reward (Reward function) \n",
    "    $$\n",
    "    G_{t} = r_{t+1} + r_{t+2} + r_{t+3} +\\cdots+ r_{T}\n",
    "    $$\n",
    "\n"
   ]
  },
  {
   "cell_type": "code",
   "execution_count": null,
   "metadata": {},
   "outputs": [],
   "source": []
  }
 ],
 "metadata": {
  "kernelspec": {
   "display_name": "Python 3",
   "language": "python",
   "name": "python3"
  },
  "language_info": {
   "codemirror_mode": {
    "name": "ipython",
    "version": 3
   },
   "file_extension": ".py",
   "mimetype": "text/x-python",
   "name": "python",
   "nbconvert_exporter": "python",
   "pygments_lexer": "ipython3",
   "version": "3.6.7"
  },
  "varInspector": {
   "cols": {
    "lenName": 16,
    "lenType": 16,
    "lenVar": 40
   },
   "kernels_config": {
    "python": {
     "delete_cmd_postfix": "",
     "delete_cmd_prefix": "del ",
     "library": "var_list.py",
     "varRefreshCmd": "print(var_dic_list())"
    },
    "r": {
     "delete_cmd_postfix": ") ",
     "delete_cmd_prefix": "rm(",
     "library": "var_list.r",
     "varRefreshCmd": "cat(var_dic_list()) "
    }
   },
   "types_to_exclude": [
    "module",
    "function",
    "builtin_function_or_method",
    "instance",
    "_Feature"
   ],
   "window_display": false
  }
 },
 "nbformat": 4,
 "nbformat_minor": 2
}
