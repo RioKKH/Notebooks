{
 "cells": [
  {
   "cell_type": "markdown",
   "metadata": {},
   "source": [
    "# 数理最適化\n",
    "## 線形計画法"
   ]
  },
  {
   "cell_type": "markdown",
   "metadata": {},
   "source": [
    "$\n",
    "\\begin{align}\n",
    "Maximize\\ &3x + 4y \\\\\n",
    "Subject\\ to \\ &x+4y \\le 1700 \\\\\n",
    "&2x+3y \\le 1400 \\\\\n",
    "&2x+y \\le 1000 \\\\\n",
    "&x \\ge 0 \\\\\n",
    "&y \\ge 0 \\\\\n",
    "\\end{align}\n",
    "$"
   ]
  },
  {
   "cell_type": "markdown",
   "metadata": {},
   "source": [
    "### 線形計画法の一般型"
   ]
  },
  {
   "cell_type": "markdown",
   "metadata": {},
   "source": [
    "$\n",
    "\\begin{align}\n",
    "Minimize\\ &{\\bf c}^{\\mathsf{T}}{\\bf x} \\\\\n",
    "Subject\\ to\\ &{\\bf Gx} \\le {\\bf h} \\\\\n",
    "&{\\bf Ax} = {\\bf b} \\\\\n",
    "\\end{align}\n",
    "$"
   ]
  },
  {
   "cell_type": "markdown",
   "metadata": {},
   "source": [
    "これに当てはめると"
   ]
  },
  {
   "cell_type": "markdown",
   "metadata": {},
   "source": [
    "$\n",
    "\\begin{align}\n",
    "Minmize\\  &\\left(\n",
    "        \\begin{array}{c}\n",
    "            -3 \\\\\n",
    "            -4\n",
    "        \\end{array}\n",
    "    \\right)\n",
    "    ^{\\mathsf T}\n",
    "    \\left(\n",
    "        \\begin{array}{c}\n",
    "            x \\\\\n",
    "            y\n",
    "        \\end{array}\n",
    "    \\right) \\\\\n",
    "Subject\\ to\\ &\\left(\n",
    "    \\begin{array}{cc}\n",
    "        1 & 4 \\\\\n",
    "        2 & 3 \\\\\n",
    "        2 & 1 \\\\\n",
    "        -1 & 0 \\\\\n",
    "        0 & -1\n",
    "    \\end{array}\n",
    "    \\right)\n",
    "    \\left(\n",
    "        \\begin{array}{c}\n",
    "            x \\\\\n",
    "            y\n",
    "        \\end{array}\n",
    "    \\right)\n",
    "    \\le\n",
    "    \\left(\n",
    "        \\begin{array}{c}\n",
    "            1700 \\\\\n",
    "            1400 \\\\\n",
    "            1000 \\\\\n",
    "            0 \\\\\n",
    "            0\n",
    "        \\end{array}\n",
    "    \\right)\n",
    "\\end{align}\n",
    "$"
   ]
  },
  {
   "cell_type": "markdown",
   "metadata": {},
   "source": [
    "つまり"
   ]
  },
  {
   "cell_type": "markdown",
   "metadata": {},
   "source": [
    "$\n",
    "\\begin{align}\n",
    "{\\bf c} =\n",
    "    \\left(\n",
    "    \\begin{array}{c}\n",
    "        -3 \\\\\n",
    "        -4\n",
    "    \\end{array}\n",
    "    \\right),\\ \n",
    "{\\bf G} =\n",
    "    \\left(\n",
    "        \\begin{array}{cc}\n",
    "            1 & 4 \\\\\n",
    "            2 & 3 \\\\\n",
    "            2 & 1 \\\\\n",
    "            -1 & 0 \\\\\n",
    "            0 & -1\n",
    "        \\end{array}\n",
    "    \\right),\\ \n",
    "{\\bf h} =\n",
    "   \\left(\n",
    "       \\begin{array}{c}\n",
    "           1700 \\\\\n",
    "           1400 \\\\\n",
    "           1000 \\\\\n",
    "           0 \\\\\n",
    "           0\\\\\n",
    "       \\end{array}\n",
    "   \\right)\n",
    "\\end{align}\n",
    "$"
   ]
  },
  {
   "cell_type": "code",
   "execution_count": 6,
   "metadata": {},
   "outputs": [
    {
     "name": "stdout",
     "output_type": "stream",
     "text": [
      "[399.99988463 199.99996114]\n",
      "-1999.9994984688606\n"
     ]
    }
   ],
   "source": [
    "import numpy as np\n",
    "from scipy import optimize\n",
    "\n",
    "c = np.array([-3, -4], dtype=np.float64)\n",
    "G = np.array([[1, 4], [2, 3], [2, 1], [-1, 0], [0, -1]], dtype=np.float64)\n",
    "h = np.array([1700, 1400, 1000, 0, 0], np.float64)\n",
    "sol = optimize.linprog(c, A_ub=G, b_ub=h, bounds=(0, None))\n",
    "\n",
    "print(sol.x)\n",
    "print(sol.fun)"
   ]
  },
  {
   "cell_type": "markdown",
   "metadata": {},
   "source": [
    "## 2次計画法"
   ]
  },
  {
   "cell_type": "markdown",
   "metadata": {},
   "source": [
    "以下の様な2変数の2次関数の最小値を求めるような問題を2次計画問題と呼ぶ。\n",
    "$$\n",
    "\\begin{align}\n",
    "f(x, y) = x^2 + xy + y^2 + 2x + 4y\n",
    "\\end{align}\n",
    "$$"
   ]
  },
  {
   "cell_type": "code",
   "execution_count": null,
   "metadata": {},
   "outputs": [],
   "source": []
  }
 ],
 "metadata": {
  "kernelspec": {
   "display_name": "Python 3",
   "language": "python",
   "name": "python3"
  },
  "language_info": {
   "codemirror_mode": {
    "name": "ipython",
    "version": 3
   },
   "file_extension": ".py",
   "mimetype": "text/x-python",
   "name": "python",
   "nbconvert_exporter": "python",
   "pygments_lexer": "ipython3",
   "version": "3.7.3"
  }
 },
 "nbformat": 4,
 "nbformat_minor": 4
}
