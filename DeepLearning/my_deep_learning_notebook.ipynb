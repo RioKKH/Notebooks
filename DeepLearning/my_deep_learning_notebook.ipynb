{
 "cells": [
  {
   "cell_type": "markdown",
   "metadata": {},
   "source": [
    "1. マイナビ　詳解　ディープラーニング　巣籠悠輔\n",
    "1. オライリージャパン　ゼロから作るDeep Learning　斎藤康毅\n",
    "1. 講談社　深層学習　岡谷貴之\n",
    "\n",
    "以上の書籍から重要箇所を抜き出してまとめたもの"
   ]
  },
  {
   "cell_type": "markdown",
   "metadata": {},
   "source": [
    "### モデルの学習の基本の流れ\n",
    "1. モデルの出力を式で表す\n",
    "1. 誤差関数を定義する\n",
    "1. 誤差関数を最小化すべく、各パラメータに対する勾配を求める\n",
    "1. 確率的勾配降下法により最適なパラメータを探索する"
   ]
  },
  {
   "cell_type": "markdown",
   "metadata": {},
   "source": [
    "### 単純パーセプトロン\n",
    "入力が$n$個の場合に拡張して一般化してみる。\n",
    "出力を表す式は、\n",
    "\n",
    "$$\n",
    "y = \n",
    "\\begin{cases}\n",
    "    1 & (w_1x_1 + w_2x_2 + \\cdots + w_nx_n \\geq \\theta) \\\\\n",
    "    0 & (w_1x_1 + w_2x_2 + \\cdots + w_nx_n < \\theta))\n",
    "\\end{cases}\n",
    "$$\n",
    "\n",
    "となる。ここで下式で表される関数$f(x)$を考えると、\n",
    "\n",
    "$$\n",
    "f(x) =\n",
    "\\begin{cases}\n",
    "    1 (x \\geq 0) \\\\\n",
    "    0 (x < 0)\n",
    "\\end{cases}\n",
    "$$\n",
    "\n",
    "ネットワークの出力$y$は\n",
    "\n",
    "$$\n",
    "y = f(w_1x_1 + w_2x_2 + \\cdots + w_nx_n - \\theta)\n",
    "$$\n",
    "\n",
    "と書きなおすことができる。この$f(x)$のことを **ステップ関数(step function)** と呼ぶ\n",
    "\n",
    "$$\n",
    "{\\bf x} = \n",
    "\\begin{pmatrix}\n",
    "    x_1 \\\\\n",
    "    x_2 \\\\\n",
    "    \\vdots \\\\\n",
    "    x_n\n",
    "\\end{pmatrix}\n",
    ", {\\bf w} =\n",
    "\\begin{pmatrix}\n",
    "    w_1 \\\\\n",
    "    w_2 \\\\\n",
    "    \\vdots \\\\\n",
    "    w_n\n",
    "\\end{pmatrix}\n",
    "$$\n",
    "\n",
    "とすると、最終的に出力は\n",
    "\n",
    "$$\n",
    "y = f({\\bf w} \\top {\\bf x} + b)\n",
    "$$\n",
    "\n",
    "と書くことができる。\n"
   ]
  },
  {
   "cell_type": "markdown",
   "metadata": {},
   "source": [
    "1. ニューラルネットワークは入力層、隠れ層、出力層を持つ\n",
    "1. 全結合層によって線形な変換が行われ、活性化関数によって非線形名変換が行われる。\n",
    "    1. 線形な変換\n",
    "    \n",
    "    Affine変換$\\cdots$全層結合\n",
    "    \n",
    "    1. 非線形な変換\n",
    "    \n",
    "    活性化関数$\\cdots$非線形な効果を与える。<br>\n",
    "    非線形な活性化関数を用いることで、\n",
    "    ニューラルネットワークの表現力を増す。\n",
    "    パーセプトロンでは活性化関数にステップ関数を\n",
    "    用いている。実は、パーセプトロンとニューラル\n",
    "    ネットワークの違いは、活性化関数に何を用いて\n",
    "    いるかのみの違いとなる。\n",
    "        1. パーセプトロン：ステップ関数\n",
    "        1. ニューラルネットワーク：シグモイド関数\n",
    "        シグモイド関数はその一つで以下の様に表す。\n",
    "$$\n",
    "\\sigma(x) = \\frac{1}{1+exp(-x)}\n",
    "$$\n",
    "\n",
    "ステップ関数の代わりにシグモイド関数を用いたモデルの事を、ロジスティック回帰という。回帰と言いながら、実際にやっていることは分類になることに注意。 \n",
    "\n",
    "1. 損失関数\n",
    "\n",
    "学習の進捗程度を表す指標。これを”loss”と呼ぶ。単一の\n",
    "スカラとして表現される。\n",
    "損失関数(loss function)"
   ]
  },
  {
   "cell_type": "markdown",
   "metadata": {},
   "source": [
    "#### シグモイド関数\n",
    "Cはニューロンが発火する場合を$C=1$、発火しない場合を$C=0$となる確率変数。\n",
    "\n",
    "$$\n",
    "p(C = 1 | {\\bf x}) = \\sigma({\\bf w} \\top {\\bf x} + b) = y\n",
    "$$\n",
    "\n",
    "確率は和が1となるので、ニューロンが発火しない確率は\n",
    "\n",
    "$$\n",
    "p(C=0 | {\\bf x}) = 1 - p(C = 1|{\\bf x}) = 1 - y\n",
    "$$\n",
    "\n",
    "となる。両式をまとめると\n",
    "\n",
    "$$\n",
    "p(C = t | {\\bf x}) = y^t(1-y)^{1-t}\n",
    "$$\n",
    "\n",
    "とかける。ただし、$t {0, 1}$である。"
   ]
  },
  {
   "cell_type": "markdown",
   "metadata": {},
   "source": [
    "#### シグモイド関数が使われる理由\n",
    "$$\n",
    "f(x) = 1 + \\exp^{-x}\n",
    "$$\n",
    "とすると、\n",
    "$$\n",
    "y = \\frac{1}{f(x)} \\\\\n",
    "\\therefore \\frac{dy}{dx} = - \\frac{f'(x)}{f(x)^2} = - \\frac{\\frac{d}{dx} (1+e^{-x})}{(1+e^{-x})^2} = \\frac{1}{1+e^{-x}} \\cdot \\frac{e^{-x}}{1+e^{-x}} = \\sigma(x)(1 - \\sigma(x))\n",
    "$$\n",
    "\n",
    "となり、シグモイド関数を微分した結果はシグモイド関数自身で表されることがわかる。この特徴が理論上も実装上も大いに役に立つ。"
   ]
  },
  {
   "cell_type": "code",
   "execution_count": 34,
   "metadata": {
    "code_folding": []
   },
   "outputs": [],
   "source": [
    "# 活性化関数\n",
    "x = np.linspace(-5, 5, 100)\n",
    "def sigmoid(x):\n",
    "    return 1 / (1 + np.exp(-x))\n",
    "\n",
    "def relu(x):\n",
    "    # 正規化線形関数\n",
    "    # rectified linear function\n",
    "    return np.maximum(0, x)\n",
    "\n",
    "def tanh(x):\n",
    "    return np.tanh(x)\n",
    "\n",
    "plt.plot(x, sigmoid(x), x, relu(x), x, tanh(x))\n",
    "plt.legend(['sigmoid', 'relu', 'tanh'])\n",
    "plt.ylim(-1.5, 1.5)\n",
    "plt.grid()"
   ]
  },
  {
   "cell_type": "markdown",
   "metadata": {},
   "source": [
    "## 出力層の設計と誤差関数\n",
    "\n",
    "|問題の種別|出力層の活性化関数|誤差関数|\n",
    "|----------|------------------|---------|\n",
    "|回帰|恒等写像|二乗誤差|\n",
    "|二値分類|ロジスティック関数|最尤推定法から求めた式|\n",
    "|多クラス分類|ソフトマックス関数|交差エントロピー|"
   ]
  },
  {
   "cell_type": "markdown",
   "metadata": {},
   "source": [
    "### 回帰\n",
    "#### 恒等写像\n",
    "$$\n",
    "f(u) = u\n",
    "$$\n",
    "#### 二乗誤差\n",
    "$$\n",
    "{\\bf\\|d - y(x;w)\\|}^2\n",
    "$$\n",
    "これを訓練データの全サンプル $n = 1, \\cdots , N$について加算したものを$1/2$にした\n",
    "$$\n",
    "E({\\bf w}) = \\frac{1}{2}\\sum_{n=1}^{N}\\|{\\bf d_n - y(x_n; w)\\|}^2\n",
    "$$\n",
    "を考え、これが最も小さくなるような$w$を選ぶ。$1/2$にするのhあ、微分すると2乗の2と相殺されるから。この$E(w)$が回帰で最も一般的な誤差関数になる。"
   ]
  },
  {
   "cell_type": "markdown",
   "metadata": {},
   "source": [
    "### 二値分類\n",
    "#### ロジスティック関数\n",
    "logistic function, もしくは、ロジスティックシグモイド関数(logistic sigmoid function)ともいい、以下の式で定義される。\n",
    "\n",
    "$$\n",
    "f(u) = \\frac{1}{1 + e^{-u}}\n",
    "$$\n",
    "\n",
    "#### 最尤推定法による誤差関数の導出\n",
    "事後分布を$d=1, d = 0$の事後分布を使って\n",
    "$$\n",
    "p(d|x) = p(d=1|{\\bf x})^{d}p(d=0|{\\bf x})^{1-d}\n",
    "$$\n",
    "\n",
    "このモデルのもとで${\\bf w}$のデータに対する *尤度 (likelihood)* を求め、\n",
    "それを最大化するような${\\bf w}$を選ぶ。\n",
    "\n",
    "$$\n",
    "L({\\bf w}) \\equiv \\prod_{n=1}^{N}p(d_{n}|{\\bf x_{n}; w}) = \\prod_{n=1}^{N}\\{y({\\bf x_{n};w})\\}^{d_{n}}\\{1 - y({\\bf x_{n};w)}\\}^{1-d_{n}}\n",
    "$$\n",
    "\n",
    "対数関数は単調増加→この式の対数をとっても結果は同じも→\n",
    "上式で表される尤度の対数を取り、更に最大化の代わりに最小化を\n",
    "考えることにして符号を反転させると\n",
    "$$\n",
    "E({\\bf w}) = -\\sum_{n=1}^{N}[d_{n}\\log{y({\\bf x_{n}; w})} + (1-d_{n})\\log{\\{1-y({\\bf x_{n}; w})\\}}]\n",
    "$$\n",
    "これを誤差関数とする\n",
    "- [Qiita 尤度って何？](https://qiita.com/kenmatsu4/items/b28d1b3b3d291d0cc698)\n",
    "\n",
    "事後確率$p(d = 1|{\\bf x})$は条件付き確率の定義から\n",
    "\n",
    "$$\n",
    "p(d = 1| {\\bf x}) = \\frac{p({\\bf x}, d =1)}{p({\\bf x}, d=0) + p({\\bf x}, d = 1)}\n",
    "$$\n",
    "\n",
    "とかける。ここで\n",
    "\n",
    "$$\n",
    "u \\equiv \\log{\\frac{p({\\bf x}, d=1)}{p({\\bf x}, d = 0)}}\n",
    "$$\n",
    "\n",
    "と置くと、事後確率$p(d=1|{\\bf x})$は$u$のロジスティック関数に一致する\n",
    "\n"
   ]
  },
  {
   "cell_type": "markdown",
   "metadata": {},
   "source": [
    "### 多クラス分類 \n"
   ]
  },
  {
   "cell_type": "markdown",
   "metadata": {
    "collapsed": true
   },
   "source": [
    "#### ソフトマックス関数\n",
    "- 単純パーセプトロン・ロジスティック回帰→ニューロンが発火する・発火しないの２パターンを分類するもの\n",
    "- 多クラス分類・多クラスロジスティック回帰→２つ以上のクラスに分類するもの\n",
    "\n",
    "活性化関数をステップ関数からシグモイド関数に帰ることで、出力値を確立にすることが可能になったのと同様に、\n",
    "シグモイド関数の形を少し帰ることで、多クラス分類が可能になる。この関数を **ソフトマックス関数** という。"
   ]
  },
  {
   "cell_type": "markdown",
   "metadata": {},
   "source": [
    "$n$次元のベクトル$x=(x_1 \\space x_2 \\cdots x_n)^{T}$に対して \n",
    "$$\n",
    "\\begin{align}\n",
    "softmax(x)_{i} = \\frac{e^{x_{i}}}{\\sum_{j=1}^{n} e^{x_{j}}} && (i = 1,2,\\ldots,n)\n",
    "\\end{align}\n",
    "$$"
   ]
  },
  {
   "cell_type": "markdown",
   "metadata": {},
   "source": [
    "#### 1. 多クラス分類のモデルの出力式\n",
    "$$\n",
    "\\begin{align}\n",
    "{\\bf y} = f(W{\\bf x} + {\\bf b})\n",
    "\\end{align}\n",
    "$$\n",
    "ここで$f(\\cdot)$をソフトマックス関数とすることで、多クラス分類に対応したモデルとして使えるようになる"
   ]
  },
  {
   "cell_type": "markdown",
   "metadata": {},
   "source": [
    "#### 2. 誤差関数を定義する\n",
    "多クラスに対する尤度関数として以下が得られる。これを最大化するようなパラメータを求めれば良い。\n",
    "$$\n",
    "\\begin{align}\n",
    "L(W, {\\bf b}) =& \\prod_{n=1}^{N}\\prod_{k=1}^{K}p(C=k|{\\bf x}_{n})^{t_{nk}} \\\\\n",
    "=& \\prod_{n=1}^{N}\\prod_{k=1}^{K}y_{nk}^{t_{nk}} \\\\\n",
    "\\end{align}\n",
    "$$\n",
    "これを最大化するようなパラメータを求めれば良い。対数をとって符号を反転させた関数を考えれば、\n",
    "多クラス版の交差エントロピー誤差関数が最小化すべき関数として求まる。\n",
    "$$\n",
    "\\begin{align}\n",
    "E(W, {\\bf b}) :=& -\\log L(W, {\\bf b}) \\\\\n",
    "=& -\\sum_{n=1}^{N}\\sum_{k=1}^{K}t_{nk}\\log y_{nk}\n",
    "\\end{align}\n",
    "$$"
   ]
  },
  {
   "cell_type": "markdown",
   "metadata": {},
   "source": [
    "#### 3. 誤差関数を最小化すべく、各パラメータに対する勾配を求める \n",
    "$$\n",
    "\\begin{align}\n",
    "\\frac{\\partial E}{\\partial b_{j}} =& - \\sum_{n=1}^{N}({\\bf t}_{n} - {\\bf y}_{n}) \\\\\n",
    "\\frac{\\partial E}{\\partial {\\bf b}} =& - \\sum_{n=1}^{N}({\\bf t}_{n} - {\\bf y}_{n})\n",
    "\\end{align}\n",
    "$$"
   ]
  },
  {
   "cell_type": "markdown",
   "metadata": {},
   "source": [
    "#### 4. 確率的勾配降下法により最適なパラメータを探索する "
   ]
  },
  {
   "cell_type": "code",
   "execution_count": 16,
   "metadata": {
    "collapsed": true
   },
   "outputs": [],
   "source": [
    "# TensorFlowによる実装\n",
    "from sklearn.utils import shuffle\n",
    "import tensorflow as tf\n",
    "M = 2 # 入力データの次元\n",
    "K = 3 # クラス数\n",
    "n = 100 # クラス毎のデータ数\n",
    "N = n * K # 全データ数"
   ]
  },
  {
   "cell_type": "code",
   "execution_count": 2,
   "metadata": {
    "collapsed": true
   },
   "outputs": [],
   "source": [
    "# 入力データ\n",
    "X1 = np.random.randn(n, M) + np.array([0, 10])\n",
    "X2 = np.random.randn(n, M) + np.array([5, 5])\n",
    "X3 = np.random.randn(n, M) + np.array([10, 0])\n",
    "\n",
    "# 正解ラベル\n",
    "Y1 = np.array([[1, 0, 0] for i in range(n)])\n",
    "Y2 = np.array([[0, 1, 0] for i in range(n)])\n",
    "Y3 = np.array([[0, 0, 1] for i in range(n)])\n",
    "\n",
    "# 全データ, 全正解ラベル\n",
    "X = np.concatenate((X1, X2, X3), axis=0)\n",
    "Y = np.concatenate((Y1, Y2, Y3), axis=0)\n"
   ]
  },
  {
   "cell_type": "code",
   "execution_count": 13,
   "metadata": {},
   "outputs": [
    {
     "data": {
      "text/plain": [
       "[<matplotlib.lines.Line2D at 0x7fa77b5f2828>]"
      ]
     },
     "execution_count": 13,
     "metadata": {},
     "output_type": "execute_result"
    }
   ],
   "source": [
    "plt.plot(X[:,0], X[:,1], marker='o', ls='')"
   ]
  },
  {
   "cell_type": "code",
   "execution_count": 14,
   "metadata": {},
   "outputs": [
    {
     "data": {
      "image/png": "[encoded data removed]",
      "text/plain": [
       "<matplotlib.figure.Figure at 0x7fa77b60fcc0>"
      ]
     },
     "metadata": {},
     "output_type": "display_data"
    }
   ],
   "source": [
    "plt.show()"
   ]
  },
  {
   "cell_type": "code",
   "execution_count": 19,
   "metadata": {},
   "outputs": [],
   "source": [
    "# モデルの定義\n",
    "W = tf.Variable(tf.zeros([M, K])) # M x K array\n",
    "b = tf.Variable(tf.zeros([K]))\n",
    "\n",
    "x = tf.placeholder(tf.float32, shape=[None, M]) # M: 入力データの次元\n",
    "t = tf.placeholder(tf.float32, shape=[None, K]) # K: クラス数\n",
    "y = tf.nn.softmax(tf.matmul(x, W) + b)"
   ]
  },
  {
   "cell_type": "code",
   "execution_count": 20,
   "metadata": {
    "collapsed": true
   },
   "outputs": [],
   "source": [
    "# 誤差関数の定義\n",
    "cross_entropy = tf.reduce_mean(-tf.reduce_sum(t * tf.log(y), reduction_indices=[1]))"
   ]
  },
  {
   "cell_type": "code",
   "execution_count": 21,
   "metadata": {
    "collapsed": true
   },
   "outputs": [],
   "source": [
    "# 勾配\n",
    "train_step = tf.train.GradientDescentOptimizer(0.1).minimize(cross_entropy)"
   ]
  },
  {
   "cell_type": "code",
   "execution_count": 22,
   "metadata": {
    "collapsed": true
   },
   "outputs": [],
   "source": [
    "# 評価\n",
    "correct_prediction = tf.equal(tf.argmax(y, 1), tf.argmax(t, 1))"
   ]
  },
  {
   "cell_type": "code",
   "execution_count": 23,
   "metadata": {
    "collapsed": true
   },
   "outputs": [],
   "source": [
    "# ミニバッチ\n",
    "batch_size = 50 # ミニバッチサイズ\n",
    "n_batches = N // batch_size"
   ]
  },
  {
   "cell_type": "code",
   "execution_count": 24,
   "metadata": {
    "collapsed": true
   },
   "outputs": [],
   "source": [
    "# 初期化\n",
    "init = tf.global_variables_initializer()\n",
    "sess = tf.Session()\n",
    "sess.run(init)"
   ]
  },
  {
   "cell_type": "code",
   "execution_count": 26,
   "metadata": {},
   "outputs": [],
   "source": [
    "# 学習\n",
    "for epoch in range(20):\n",
    "    X_, Y_ = shuffle(X, Y)\n",
    "    \n",
    "    for i in range(n_batches):\n",
    "        start = i * batch_size\n",
    "        end = start + batch_size\n",
    "        \n",
    "        sess.run(train_step, feed_dict={\n",
    "            x: X_[start:end],\n",
    "            t: Y_[start:end]\n",
    "        })"
   ]
  },
  {
   "cell_type": "code",
   "execution_count": 29,
   "metadata": {},
   "outputs": [
    {
     "name": "stdout",
     "output_type": "stream",
     "text": [
      "classfied:\n",
      "[ True  True  True  True  True  True  True  True  True  True]\n",
      "\n",
      "output probability:\n",
      "[[1.8711759e-10 4.7050836e-04 9.9952948e-01]\n",
      " [2.4023270e-08 1.7368224e-02 9.8263168e-01]\n",
      " [4.1602342e-03 9.8826575e-01 7.5739869e-03]\n",
      " [8.6843079e-01 1.3156526e-01 3.9757510e-06]\n",
      " [1.4920463e-09 4.2834058e-03 9.9571663e-01]\n",
      " [9.9785185e-01 2.1482194e-03 4.7047127e-10]\n",
      " [4.6574646e-09 2.2411224e-02 9.7758877e-01]\n",
      " [9.9621308e-01 3.7869071e-03 2.4151383e-09]\n",
      " [9.9874157e-01 1.2584566e-03 5.1113536e-10]\n",
      " [4.4741720e-02 9.4563872e-01 9.6194986e-03]]\n"
     ]
    }
   ],
   "source": [
    "# 結果の確認\n",
    "X_, Y_ = shuffle(X, Y)\n",
    "\n",
    "classified = correct_prediction.eval(session=sess, feed_dict={\n",
    "    x: X_[0:10],\n",
    "    t: Y_[0:10]\n",
    "})\n",
    "prob = y.eval(session=sess, feed_dict={\n",
    "    x: X_[0:10]\n",
    "})\n",
    "\n",
    "print('classfied:')\n",
    "print(classified)\n",
    "print()\n",
    "print('output probability:')\n",
    "print(prob)"
   ]
  },
  {
   "cell_type": "code",
   "execution_count": 32,
   "metadata": {},
   "outputs": [
    {
     "data": {
      "text/plain": [
       "(array([[-1.0929269 ,  0.29785717,  0.7950699 ],\n",
       "        [ 0.7763626 ,  0.29395822, -1.0703204 ]], dtype=float32),\n",
       " array([-0.05158829,  0.09854871, -0.04696041], dtype=float32))"
      ]
     },
     "execution_count": 32,
     "metadata": {},
     "output_type": "execute_result"
    }
   ],
   "source": [
    "ww = sess.run(W)\n",
    "bb = sess.run(b)"
   ]
  },
  {
   "cell_type": "markdown",
   "metadata": {},
   "source": [
    "## 多層パーセプトロン"
   ]
  },
  {
   "cell_type": "markdown",
   "metadata": {},
   "source": [
    "実は単純パーセプトロンやロジスティック回帰は線形分離可能な問題でしかデータを分類できない。ニューロンが発火するかしないかの式は\n",
    "$$\n",
    "ax_{1} + bx_{2} + c = 0\n",
    "$$\n",
    "の形でまとまるため、1本の直線以上の表現はできない。このため、XORのような分類を学習することはできない。\n",
    "このような線形分離可能な問題にのみ対応したモデルのことを線形分類器(linear classifier)という。"
   ]
  },
  {
   "cell_type": "code",
   "execution_count": null,
   "metadata": {
    "collapsed": true
   },
   "outputs": [],
   "source": []
  }
 ],
 "metadata": {
  "kernelspec": {
   "display_name": "Python 3",
   "language": "python",
   "name": "python3"
  },
  "language_info": {
   "codemirror_mode": {
    "name": "ipython",
    "version": 3
   },
   "file_extension": ".py",
   "mimetype": "text/x-python",
   "name": "python",
   "nbconvert_exporter": "python",
   "pygments_lexer": "ipython3",
   "version": "3.6.3"
  },
  "varInspector": {
   "cols": {
    "lenName": 16,
    "lenType": 16,
    "lenVar": 40
   },
   "kernels_config": {
    "python": {
     "delete_cmd_postfix": "",
     "delete_cmd_prefix": "del ",
     "library": "var_list.py",
     "varRefreshCmd": "print(var_dic_list())"
    },
    "r": {
     "delete_cmd_postfix": ") ",
     "delete_cmd_prefix": "rm(",
     "library": "var_list.r",
     "varRefreshCmd": "cat(var_dic_list()) "
    }
   },
   "types_to_exclude": [
    "module",
    "function",
    "builtin_function_or_method",
    "instance",
    "_Feature"
   ],
   "window_display": false
  }
 },
 "nbformat": 4,
 "nbformat_minor": 2
}
