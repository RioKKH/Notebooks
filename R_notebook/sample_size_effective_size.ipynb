{
 "cells": [
  {
   "cell_type": "markdown",
   "metadata": {},
   "source": [
    "参考にした書籍・Webサイト\n",
    "- [検定力分析と効果量](https://qiita.com/wasabi_sugi/items/55fdac6c5b34cf281314)\n",
    "- [入門統計学(栗原伸一)](https://www.amazon.co.jp/%E5%85%A5%E9%96%80-%E7%B5%B1%E8%A8%88%E5%AD%A6-%E2%88%92%E6%A4%9C%E5%AE%9A%E3%81%8B%E3%82%89%E5%A4%9A%E5%A4%89%E9%87%8F%E8%A7%A3%E6%9E%90%E3%83%BB%E5%AE%9F%E9%A8%93%E8%A8%88%E7%94%BB%E6%B3%95%E3%81%BE%E3%81%A7%E2%88%92-%E6%A0%97%E5%8E%9F-%E4%BC%B8%E4%B8%80/dp/4274068552/ref=sr_1_1?ie=UTF8&qid=1544340655&sr=8-1&keywords=%E5%85%A5%E9%96%80%E7%B5%B1%E8%A8%88%E5%AD%A6)"
   ]
  },
  {
   "cell_type": "markdown",
   "metadata": {},
   "source": [
    "#### 検出力分析\n",
    "検出力分析で使われる記号\n",
    "- $\\alpha$ : 有意水準\n",
    "- $\\beta$ : 第2種の誤り\n",
    "- $1 - \\beta$ : 検定力\n",
    "- ES (Effect Size) : 効果量\n",
    "- ES index : 効果量を示す指標\n",
    "- N (sample size) : 標本の大きさ、データ数のこと\n",
    "\n",
    "$\\alpha$, $ES$, $N$, $1-B$のそれぞれはそれ以外の3つから計算して求められる。"
   ]
  },
  {
   "cell_type": "markdown",
   "metadata": {},
   "source": [
    "#### 効果量\n",
    "$t$検定の場合の効果量$ES$は以下の式でも求まる\n",
    "\n",
    "$$\n",
    "\\begin{align}\n",
    "d =& \\frac{(m_{b}-m_{a})}{\\sigma} \\\\\n",
    "\\sigma =& \\sqrt{\\frac{(\\sigma_a^{2} + \\sigma_b^{2})}{2}}\n",
    "\\end{align}\n",
    "$$\n",
    "\n",
    "効果量の式を変形すると\n",
    "\n",
    "$t値=効果量\\ \\times sample\\ size$\n",
    "\n",
    "サンプルサイズを大きくすればするほど、$t$値が大きくなり、結果微小な意味のない差も検出してしまうことになる。\n",
    "\n",
    "![効果量の目安](figures/cohens_d.png)\n",
    "[Source: 水本・竹内(2008)研究論文における効果量の報告のために](http://www.mizumot.com/files/EffectSize_KELES31.pdf)"
   ]
  },
  {
   "cell_type": "code",
   "execution_count": 21,
   "metadata": {},
   "outputs": [
    {
     "name": "stdout",
     "output_type": "stream",
     "text": [
      "[1] 56\n",
      "[1] 47.9\n",
      "[1] 8.1\n"
     ]
    }
   ],
   "source": [
    "# seed 1の場合の平均値\n",
    "set.seed(1)\n",
    "X <- sample(1:100, 20, replace=TRUE)\n",
    "Y <- sample(1:100, 20, replace=TRUE)\n",
    "print(mean(X))\n",
    "print(mean(Y))\n",
    "print(mean(X) - mean(Y))"
   ]
  },
  {
   "cell_type": "code",
   "execution_count": 22,
   "metadata": {},
   "outputs": [
    {
     "name": "stdout",
     "output_type": "stream",
     "text": [
      "[1] 51.55\n",
      "[1] 47.6\n",
      "[1] 3.95\n"
     ]
    }
   ],
   "source": [
    "# seed 2\n",
    "set.seed(2)\n",
    "X <- sample(1:100, 20, replace=TRUE)\n",
    "Y <- sample(1:100, 20, replace=TRUE)\n",
    "print(mean(X))\n",
    "print(mean(Y))\n",
    "print(mean(X) - mean(Y))"
   ]
  },
  {
   "cell_type": "code",
   "execution_count": 23,
   "metadata": {},
   "outputs": [
    {
     "name": "stdout",
     "output_type": "stream",
     "text": [
      "[1] 52.05\n",
      "[1] 41.3\n",
      "[1] 10.75\n"
     ]
    }
   ],
   "source": [
    "# seed 3\n",
    "set.seed(3)\n",
    "X <- sample(1:100, 20, replace=TRUE)\n",
    "Y <- sample(1:100, 20, replace=TRUE)\n",
    "print(mean(X))\n",
    "print(mean(Y))\n",
    "print(mean(X) - mean(Y))"
   ]
  },
  {
   "cell_type": "markdown",
   "metadata": {},
   "source": [
    "乱数を指定して計算するだけでも、XY差は10点ぐらいは異なってしまう。"
   ]
  },
  {
   "cell_type": "code",
   "execution_count": 24,
   "metadata": {},
   "outputs": [
    {
     "data": {
      "text/plain": [
       "\n",
       "\tTwo Sample t-test\n",
       "\n",
       "data:  X and Y\n",
       "t = 4.0058, df = 38, p-value = 0.0002775\n",
       "alternative hypothesis: true difference in means is not equal to 0\n",
       "95 percent confidence interval:\n",
       "  6.171083 18.780781\n",
       "sample estimates:\n",
       "mean of x mean of y \n",
       " 60.53520  48.05926 \n"
      ]
     },
     "metadata": {},
     "output_type": "display_data"
    }
   ],
   "source": [
    "# Neyman-Peasonの仮説検定\n",
    "X <- rnorm(20, 60, 10)\n",
    "Y <- rnorm(20, 50, 10)\n",
    "t.test(X, Y, var.equal = TRUE, conf.level = 0.95)"
   ]
  },
  {
   "cell_type": "markdown",
   "metadata": {},
   "source": [
    "#### 信頼区間、信頼係数\n",
    "- 95％信頼区間とは\n",
    "      何度もサンプリングを繰り返し、サンプルの平均を求め、95％信頼区間の推定を繰り返したときに、対称の真の平均（母平均）が、それらの信頼区間の中に収まる割合が95％である\n",
    "\n",
    "![信頼区間](figures/confidence_interval2.png)"
   ]
  },
  {
   "cell_type": "markdown",
   "metadata": {},
   "source": [
    "効果量を確認すれば、優位ではないが、意味のある差を見逃してしまうことも少なくできる"
   ]
  },
  {
   "cell_type": "code",
   "execution_count": 25,
   "metadata": {},
   "outputs": [],
   "source": [
    "cohens_d <- function(x, y) {\n",
    "    n_x <- length(x) - 1\n",
    "    n_y <- length(y) - 1\n",
    "    m_diff <- abs(mean(x) - mean(y))\n",
    "    pooled_sd <- sqrt((n_x * var(x) + n_y * var(y))/(n_x + n_y))\n",
    "    es <- m_diff/pooled_sd\n",
    "    print(es)\n",
    "}"
   ]
  },
  {
   "cell_type": "code",
   "execution_count": 26,
   "metadata": {},
   "outputs": [
    {
     "name": "stdout",
     "output_type": "stream",
     "text": [
      "[1] 2.863086\n"
     ]
    }
   ],
   "source": [
    "# 優位ではない\n",
    "X3 <- rnorm(5, 65, 15)\n",
    "Y3 <- rnorm(5, 50, 15)\n",
    "# 効果量は大きい\n",
    "cohens_d(X3, Y3)"
   ]
  },
  {
   "cell_type": "code",
   "execution_count": 27,
   "metadata": {},
   "outputs": [
    {
     "name": "stdout",
     "output_type": "stream",
     "text": [
      "[1] 1.031733\n"
     ]
    }
   ],
   "source": [
    "# サンプルサイズを大きくする\n",
    "X4 <- rnorm(100, 65, 15)\n",
    "Y4 <- rnorm(100, 50, 15)\n",
    "cohens_d(X4, Y4)"
   ]
  },
  {
   "cell_type": "markdown",
   "metadata": {},
   "source": [
    "#### 効果量の視覚化\n",
    "標準偏差10,平均は100と110の分布を考える。このとき、効果量ESは\n",
    "$$\n",
    "ES = \\frac{(110 - 100)}{10} = 1\n",
    "$$\n",
    "平均値の差は、ESが1なので、$SD$1個分離れていることを意味している。$SD$は10なので、平均値は10離れていることになる。"
   ]
  },
  {
   "cell_type": "code",
   "execution_count": null,
   "metadata": {},
   "outputs": [],
   "source": [
    "curve(dnorm(x, 100, 10), 60, 160, col = \"#0070B9\", add = TRUE)\n",
    "curve(dnorm(x, 110, 10), 60, 160, col = \"#B2D6E7\", add = TRUE)\n",
    "abline(v = 100, add = TRUE, col = \"#0070B9\")\n",
    "abline(v = 110, add = TRUE, col = \"#B2D6E7\")"
   ]
  },
  {
   "cell_type": "markdown",
   "metadata": {},
   "source": [
    "#### Rで検定力分析\n",
    "{stats}パッケージのpower.t.test()を用いる\n",
    "- power: 検定力\n",
    "- 真の平均値の差: SD = 1の時は、delta=ESとなる\n",
    "- sig.level: 有意水準\n",
    "- n: sample size"
   ]
  },
  {
   "cell_type": "code",
   "execution_count": 35,
   "metadata": {},
   "outputs": [
    {
     "data": {
      "text/plain": [
       "\n",
       "     Two-sample t test power calculation \n",
       "\n",
       "              n = 393.4067\n",
       "          delta = 0.2\n",
       "             sd = 1\n",
       "      sig.level = 0.05\n",
       "          power = 0.8\n",
       "    alternative = two.sided\n",
       "\n",
       "NOTE: n is number in *each* group\n"
      ]
     },
     "metadata": {},
     "output_type": "display_data"
    }
   ],
   "source": [
    "# power, delta, sig.levelを指定しているので、サンプルサイズが求まる\n",
    "library(stats)\n",
    "power.t.test(power = 0.8,\n",
    "             delta = 0.2,\n",
    "             sig.level = 0.05,\n",
    "             type = \"two.sample\")"
   ]
  },
  {
   "cell_type": "markdown",
   "metadata": {},
   "source": [
    "効果量を代えてみた場合。$ES$が大きくなればなるほどサンプルサイズは少数で十分ということになる"
   ]
  },
  {
   "cell_type": "code",
   "execution_count": 36,
   "metadata": {},
   "outputs": [
    {
     "name": "stdout",
     "output_type": "stream",
     "text": [
      "[1] 393.4067\n",
      "[1] 63.76576\n",
      "[1] 25.52463\n"
     ]
    }
   ],
   "source": [
    "for (i in c(0.2, 0.5, 0.8)) {\n",
    "    print(power.t.test(power = 0.8,\n",
    "                       delta = i, # Effect Size\n",
    "                       sig.level = 0.05,\n",
    "                       type = \"two.sample\")$n)\n",
    "}"
   ]
  },
  {
   "cell_type": "markdown",
   "metadata": {},
   "source": [
    "事後の検定力分析。実験ノアとに検定力がどの程度あったのかを調べるもの"
   ]
  },
  {
   "cell_type": "code",
   "execution_count": 39,
   "metadata": {},
   "outputs": [
    {
     "data": {
      "text/html": [
       "0.104249999999993"
      ],
      "text/latex": [
       "0.104249999999993"
      ],
      "text/markdown": [
       "0.104249999999993"
      ],
      "text/plain": [
       "[1] 0.10425"
      ]
     },
     "metadata": {},
     "output_type": "display_data"
    },
    {
     "name": "stdout",
     "output_type": "stream",
     "text": [
      "[1] 0.3780888\n",
      "[1] 0.177124\n",
      "[1] 0.05038877\n"
     ]
    }
   ],
   "source": [
    "for (i in c(0.05, 0.01, 0.001)){\n",
    "    print(power.t.test(n = 50000,\n",
    "                       delta = 0.0104322,\n",
    "                       sig.level = i,\n",
    "                       type = \"two.sample\")$power)\n",
    "}"
   ]
  },
  {
   "cell_type": "code",
   "execution_count": null,
   "metadata": {},
   "outputs": [],
   "source": []
  }
 ],
 "metadata": {
  "kernelspec": {
   "display_name": "R",
   "language": "R",
   "name": "ir"
  },
  "language_info": {
   "codemirror_mode": "r",
   "file_extension": ".r",
   "mimetype": "text/x-r-source",
   "name": "R",
   "pygments_lexer": "r",
   "version": "3.4.4"
  },
  "varInspector": {
   "cols": {
    "lenName": 16,
    "lenType": 16,
    "lenVar": 40
   },
   "kernels_config": {
    "python": {
     "delete_cmd_postfix": "",
     "delete_cmd_prefix": "del ",
     "library": "var_list.py",
     "varRefreshCmd": "print(var_dic_list())"
    },
    "r": {
     "delete_cmd_postfix": ") ",
     "delete_cmd_prefix": "rm(",
     "library": "var_list.r",
     "varRefreshCmd": "cat(var_dic_list()) "
    }
   },
   "types_to_exclude": [
    "module",
    "function",
    "builtin_function_or_method",
    "instance",
    "_Feature"
   ],
   "window_display": false
  }
 },
 "nbformat": 4,
 "nbformat_minor": 2
}
